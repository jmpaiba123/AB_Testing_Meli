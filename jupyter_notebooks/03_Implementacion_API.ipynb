{
 "cells": [
  {
   "cell_type": "markdown",
   "metadata": {},
   "source": [
    "## **Implementación de API para consulta de resultados**\n",
    "\n",
    "En este notebook comentaremos en detalle la función [app.py](https://github.com/jmpaiba123/AB_Testing_Meli/blob/main/python_scripts/app.py), que fue utilizada para el lanzamiento de la API que nos permitirá realizar las consultas de un experimento para un día dado. Teniendo en cuenta las especificaciones del ejercicio"
   ]
  },
  {
   "cell_type": "markdown",
   "metadata": {},
   "source": [
    "### **Importaciones y Configuración Inicial**"
   ]
  },
  {
   "cell_type": "code",
   "execution_count": 10,
   "metadata": {},
   "outputs": [],
   "source": [
    "from flask import Flask, jsonify, request\n",
    "import pandas as pd\n",
    "\n",
    "app = Flask(__name__)\n",
    "\n",
    "try:\n",
    "    df_results = pd.read_csv(\"/Users/juanmanuelpaiba/Documents/Juan_Paiba/AB_Testing_Meli/data/Outputs/grouped_inf.csv\", sep=\",\")\n",
    "    archivo_valido = not df_results.empty\n",
    "except ValueError:\n",
    "    print(\"error en la lectura del archivo\")"
   ]
  },
  {
   "cell_type": "markdown",
   "metadata": {},
   "source": [
    "Aquí, estamos importando las bibliotecas necesarias:\n",
    "\n",
    " * Flask, jsonify y request de flask: Flask es un microframework para crear aplicaciones web en Python. jsonify se usa para devolver respuestas en formato JSON y request para manejar datos de las solicitudes HTTP.\n",
    " * pandas como pd: Pandas es una biblioteca para análisis y manipulación de datos.\n",
    "Luego, se crea una instancia de Flask y se intenta leer un archivo CSV llamado grouped_inf.csv usando pandas. Si la lectura es exitosa, se marca archivo_valido como verdadero; de lo contrario, se imprime un mensaje de error.\n",
    "\n",
    "### **Definición de la Ruta y Función**"
   ]
  },
  {
   "cell_type": "code",
   "execution_count": 11,
   "metadata": {},
   "outputs": [
    {
     "name": "stdout",
     "output_type": "stream",
     "text": [
      " * Serving Flask app '__main__'\n",
      " * Debug mode: off\n"
     ]
    },
    {
     "name": "stderr",
     "output_type": "stream",
     "text": [
      "\u001b[31m\u001b[1mWARNING: This is a development server. Do not use it in a production deployment. Use a production WSGI server instead.\u001b[0m\n",
      " * Running on http://127.0.0.1:5000\n",
      "\u001b[33mPress CTRL+C to quit\u001b[0m\n",
      "127.0.0.1 - - [03/Jun/2024 10:21:18] \"\u001b[33mGET /experiment/HideTransitionModal2/result?day=2021-08-02 HTTP/1.1\u001b[0m\" 404 -\n"
     ]
    },
    {
     "name": "stdout",
     "output_type": "stream",
     "text": [
      "True\n",
      "2021-08-02\n",
      "HideTransitionModal2\n",
      "Empty DataFrame\n",
      "Columns: [date, experiment, variant, participants, purchases, buy_rate, buy_rate_percent]\n",
      "Index: []\n"
     ]
    },
    {
     "name": "stderr",
     "output_type": "stream",
     "text": [
      "127.0.0.1 - - [03/Jun/2024 10:21:57] \"\u001b[31m\u001b[1mGET /experiment/HideTransitionModal/result?day=2021-34-02 HTTP/1.1\u001b[0m\" 400 -\n"
     ]
    },
    {
     "name": "stdout",
     "output_type": "stream",
     "text": [
      "True\n",
      "2021-34-02\n",
      "HideTransitionModal\n"
     ]
    }
   ],
   "source": [
    "@app.route('/experiment/<exp_name>/result')\n",
    "def get_experiment_results(exp_name):\n",
    "    \n",
    "    print(archivo_valido)\n",
    "    if not archivo_valido:\n",
    "        return jsonify({'error': 'error en la lectura del archivo'}), 400\n",
    "\n",
    "    day = request.args.get('day')\n",
    "    print(day)\n",
    "    print(exp_name)\n",
    "\n",
    "    if len(day) == 0:\n",
    "        return jsonify({'error': 'fecha invalida'}), 400\n",
    "    try:\n",
    "        day_validation = pd.Timestamp(day).floor('D')\n",
    "    except ValueError:\n",
    "        return jsonify({'error': 'fecha invalida'}), 400\n",
    "    \n",
    "    filtered_results = df_results[(df_results['experiment'] == exp_name) & (df_results['date'] == day)]\n",
    "    print(filtered_results)\n",
    "    if filtered_results.empty:\n",
    "        return jsonify({'error': 'experimento no encontrado'}), 404\n",
    "    \n",
    "    total_participants = filtered_results['participants'].sum()\n",
    "    winners = filtered_results.loc[filtered_results['purchases'].idxmax(), 'variant']\n",
    "    variants = []\n",
    "    for index, row in filtered_results.iterrows():\n",
    "        variants.append({\n",
    "            'id': row['variant'],\n",
    "            'numero_de_compras': str(row['purchases']),\n",
    "            'numero_de_participantes': str(row['participants'])\n",
    "        })\n",
    "    \n",
    "    results = {\n",
    "        exp_name: {\n",
    "            'numero_de_participantes': str(total_participants),\n",
    "            'ganador': winners,\n",
    "            'variantes': variants\n",
    "        }\n",
    "    }\n",
    "    return jsonify({'resultados': results})\n",
    "\n",
    "if __name__ == '__main__':\n",
    "    app.run()"
   ]
  },
  {
   "cell_type": "markdown",
   "metadata": {},
   "source": [
    "Vamos a desglosar esta función:\n",
    "\n",
    "**1. Definición de la Ruta**: La ruta /experiment/<exp_name>/result acepta el nombre del experimento (exp_name) como un parámetro de la URL.\n",
    "\n",
    "**2. Comprobación del Archivo:**"
   ]
  },
  {
   "cell_type": "code",
   "execution_count": 4,
   "metadata": {},
   "outputs": [],
   "source": [
    "def get_experiment_results(exp_name):\n",
    "    \n",
    "    print(archivo_valido)\n",
    "    if not archivo_valido:\n",
    "        return jsonify({'error': 'error en la lectura del archivo'}), 400"
   ]
  },
  {
   "cell_type": "markdown",
   "metadata": {},
   "source": [
    "Si archivo_valido es False, se retorna un error en formato JSON."
   ]
  },
  {
   "cell_type": "markdown",
   "metadata": {},
   "source": [
    "**3. Obtención y Validación del Parámetro day:**"
   ]
  },
  {
   "cell_type": "code",
   "execution_count": null,
   "metadata": {},
   "outputs": [],
   "source": [
    "def get_experiment_results(exp_name):\n",
    "\n",
    "    day = request.args.get('day')\n",
    "    print(day)\n",
    "    print(exp_name)\n",
    "\n",
    "    if len(day) == 0:\n",
    "        return jsonify({'error': 'fecha invalida'}), 400\n",
    "    try:\n",
    "        day_validation = pd.Timestamp(day).floor('D')\n",
    "    except ValueError:\n",
    "        return jsonify({'error': 'fecha invalida'}), 400"
   ]
  },
  {
   "cell_type": "markdown",
   "metadata": {},
   "source": [
    "Se obtiene el parámetro day de la solicitud HTTP y se valida que no esté vacío. Luego, se intenta convertir day a un objeto de fecha. Si la conversión falla, se devuelve un error.\n",
    "\n",
    "### **4. Filtrado de Resultados:**"
   ]
  },
  {
   "cell_type": "code",
   "execution_count": 5,
   "metadata": {},
   "outputs": [],
   "source": [
    "def get_experiment_results(exp_name):\n",
    "\n",
    "    filtered_results = df_results[(df_results['experiment'] == exp_name) & (df_results['date'] == day)]\n",
    "    print(filtered_results)\n",
    "    if filtered_results.empty:\n",
    "        return jsonify({'error': 'experimento no encontrado'}), 404"
   ]
  },
  {
   "cell_type": "markdown",
   "metadata": {},
   "source": [
    "Se filtran los datos del DataFrame para obtener los resultados del experimento y la fecha proporcionada. Si no se encuentran resultados, se devuelve un error.\n",
    "\n",
    "### **5. Cálculo de Resultados:**"
   ]
  },
  {
   "cell_type": "code",
   "execution_count": 6,
   "metadata": {},
   "outputs": [],
   "source": [
    "def get_experiment_results(exp_name): \n",
    "        \n",
    "    total_participants = filtered_results['participants'].sum()\n",
    "    winners = filtered_results.loc[filtered_results['purchases'].idxmax(), 'variant']\n",
    "    variants = []\n",
    "    for index, row in filtered_results.iterrows():\n",
    "        variants.append({\n",
    "            'id': row['variant'],\n",
    "            'numero_de_compras': str(row['purchases']),\n",
    "            'numero_de_participantes': str(row['participants'])\n",
    "        })"
   ]
  },
  {
   "cell_type": "markdown",
   "metadata": {},
   "source": [
    "Se calculan los totales de participantes, compras y se identifican los ganadores. Los resultados se estructuran en una lista de diccionarios.\n",
    "\n",
    "### **6. Retorno de Resultados:**"
   ]
  },
  {
   "cell_type": "code",
   "execution_count": null,
   "metadata": {},
   "outputs": [],
   "source": [
    "def get_experiment_results(exp_name): \n",
    "        \n",
    "    results = {\n",
    "        exp_name: {\n",
    "            'numero_de_participantes': str(total_participants),\n",
    "            'ganador': winners,\n",
    "            'variantes': variants\n",
    "        }\n",
    "    }\n",
    "    return jsonify({'resultados': results})"
   ]
  },
  {
   "cell_type": "markdown",
   "metadata": {},
   "source": [
    "Los resultados se formatean en un diccionario y se devuelven en formato JSON. En este caso hemos incluido un valor adicional, la catidad de participantes por día, como para dimensionar el impacto que puede llegar a tener el día en el impacto de nuestros experimentos\n",
    "\n",
    "### **Inicio de la API**"
   ]
  },
  {
   "cell_type": "code",
   "execution_count": 7,
   "metadata": {},
   "outputs": [
    {
     "name": "stdout",
     "output_type": "stream",
     "text": [
      " * Serving Flask app '__main__'\n",
      " * Debug mode: off\n"
     ]
    },
    {
     "name": "stderr",
     "output_type": "stream",
     "text": [
      "\u001b[31m\u001b[1mWARNING: This is a development server. Do not use it in a production deployment. Use a production WSGI server instead.\u001b[0m\n",
      " * Running on http://127.0.0.1:5000\n",
      "\u001b[33mPress CTRL+C to quit\u001b[0m\n"
     ]
    }
   ],
   "source": [
    "if __name__ == '__main__':\n",
    "    app.run()"
   ]
  },
  {
   "cell_type": "markdown",
   "metadata": {},
   "source": [
    "Esto inicia la aplicación Flask en el servidor local cuando se ejecuta el archivo **[app.py](https://github.com/jmpaiba123/AB_Testing_Meli/blob/main/python_scripts/app.py)**. Una vez explicado el detalle de la función que nos permitirá contruir nuestra API, el lanzamiento lo podremos relizar: \n",
    " * Ejecutando la segunda celda python contenida en este notebook\n",
    " * Desde la terminal, locaizamos el archivo app.py, y lo lanzamos con el comando python app.py\n",
    "\n",
    "Una vez lanzada la app.py, las consultas las podremos realizar de la siguiente manera: \n",
    " * **1. Consulta desde un navegador,**  \n",
    "\n",
    " <figure>\n",
    "<img src='https://upload.wikimedia.org/wikipedia/commons/thumb/d/d3/MercadoLibre_Logotipo.svg/1920px-MercadoLibre_Logotipo.svg.png' width=\"350\" height=\"100\" />\n",
    "<figcaption></figcaption>\n",
    "</figure>\n",
    "\n",
    "<figure>\n",
    "<img src='https://upload.wikimedia.org/wikipedia/commons/thumb/d/d3/MercadoLibre_Logotipo.svg/1920px-MercadoLibre_Logotipo.svg.png' width=\"350\" height=\"100\" />\n",
    "<figcaption></figcaption>\n",
    "</figure>\n",
    " "
   ]
  },
  {
   "cell_type": "markdown",
   "metadata": {},
   "source": [
    "**2. Usar Postman para Probar la API**\n",
    "\n",
    "Postman es una herramienta que te permite probar APIs enviando diferentes tipos de solicitudes HTTP y viendo las respuestas.\n",
    "\n",
    "Instalar Postman: Descarga e instala Postman desde su sitio oficial.\n",
    "Enviar una Solicitud:\n",
    "Abre Postman y crea una nueva solicitud.\n",
    "Selecciona el método HTTP GET.\n",
    "Introduce la URL de la solicitud: http://127.0.0.1:5000/experiment/<nombre_experimento>/result?day=<fecha>.\n",
    "Haz clic en Send.\n",
    "Aquí tienes algunas capturas de pantalla para ayudarte:\n",
    "\n",
    "Configuración Inicial de la Solicitud:\n",
    "\n",
    "Respuesta Exitosa:\n",
    "\n",
    "Errores Comunes:\n",
    "\n",
    "error en la lectura del archivo\n",
    "fecha invalida\n",
    "experimento no encontrado\n",
    "Resumen\n",
    "Este código crea una API con Flask que permite obtener los resultados de un experimento para una fecha específica desde un archivo CSV. La API maneja validaciones de entrada, filtra los datos y devuelve los resultados en formato JSON. Puedes probar la API utilizando herramientas como Postman para enviar solicitudes y recibir respuestas."
   ]
  },
  {
   "cell_type": "markdown",
   "metadata": {},
   "source": []
  },
  {
   "cell_type": "code",
   "execution_count": null,
   "metadata": {},
   "outputs": [],
   "source": []
  }
 ],
 "metadata": {
  "kernelspec": {
   "display_name": "Python 3",
   "language": "python",
   "name": "python3"
  },
  "language_info": {
   "codemirror_mode": {
    "name": "ipython",
    "version": 3
   },
   "file_extension": ".py",
   "mimetype": "text/x-python",
   "name": "python",
   "nbconvert_exporter": "python",
   "pygments_lexer": "ipython3",
   "version": "3.8.17"
  }
 },
 "nbformat": 4,
 "nbformat_minor": 2
}
