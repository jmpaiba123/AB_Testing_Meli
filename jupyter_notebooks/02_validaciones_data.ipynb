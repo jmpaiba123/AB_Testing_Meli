{
 "cells": [
  {
   "cell_type": "code",
   "execution_count": null,
   "metadata": {},
   "outputs": [],
   "source": []
  },
  {
   "cell_type": "code",
   "execution_count": null,
   "metadata": {},
   "outputs": [],
   "source": []
  },
  {
   "cell_type": "markdown",
   "metadata": {},
   "source": [
    "\n",
    "* experimento almenos dos variantes / experimentos no tengan mucho default/ no se asigno variante / cant defaults\n",
    "* cuantos usuarios/ cadena de navegacion termino el dia siguiente\n",
    "\n",
    "* filtrar y mostrar experimenos invalidados o no tenidos en cuenta, imprimir análisis de al menos 4 experimentos diferentes..."
   ]
  },
  {
   "cell_type": "code",
   "execution_count": 1,
   "metadata": {},
   "outputs": [],
   "source": [
    "# Preparamos el entorno\n",
    "import pandas as pd\n",
    "import numpy as np\n",
    "import seaborn as sns; sns.set()\n",
    "import matplotlib.pyplot as plt\n",
    "\n",
    "\n",
    "import sys\n",
    "import os\n",
    "module_path = os.path.abspath(os.path.join('/Users/juanmanuelpaiba/Documents/Juan_Paiba/AB_Testing_Meli/', 'python_scripts'))\n",
    "if module_path not in sys.path:\n",
    "    sys.path.append(module_path)\n",
    "import utilities\n",
    "\n",
    "pd.set_option('display.max_rows', None)\n",
    "pd.set_option('display.max_columns', None)\n",
    "#pd.set_option('display.width', 1000)"
   ]
  },
  {
   "cell_type": "code",
   "execution_count": 2,
   "metadata": {},
   "outputs": [
    {
     "name": "stdout",
     "output_type": "stream",
     "text": [
      "(143, 7)\n"
     ]
    },
    {
     "data": {
      "text/html": [
       "<div>\n",
       "<style scoped>\n",
       "    .dataframe tbody tr th:only-of-type {\n",
       "        vertical-align: middle;\n",
       "    }\n",
       "\n",
       "    .dataframe tbody tr th {\n",
       "        vertical-align: top;\n",
       "    }\n",
       "\n",
       "    .dataframe thead th {\n",
       "        text-align: right;\n",
       "    }\n",
       "</style>\n",
       "<table border=\"1\" class=\"dataframe\">\n",
       "  <thead>\n",
       "    <tr style=\"text-align: right;\">\n",
       "      <th></th>\n",
       "      <th>date</th>\n",
       "      <th>experiment</th>\n",
       "      <th>variant</th>\n",
       "      <th>participants</th>\n",
       "      <th>purchases</th>\n",
       "      <th>buy_rate</th>\n",
       "      <th>buy_rate_percent</th>\n",
       "    </tr>\n",
       "  </thead>\n",
       "  <tbody>\n",
       "    <tr>\n",
       "      <th>0</th>\n",
       "      <td>2021-08-01</td>\n",
       "      <td>HideTransitionModal</td>\n",
       "      <td>6646</td>\n",
       "      <td>2</td>\n",
       "      <td>0</td>\n",
       "      <td>0.000000</td>\n",
       "      <td>0.00%</td>\n",
       "    </tr>\n",
       "    <tr>\n",
       "      <th>1</th>\n",
       "      <td>2021-08-01</td>\n",
       "      <td>HideTransitionModal</td>\n",
       "      <td>6647</td>\n",
       "      <td>3</td>\n",
       "      <td>0</td>\n",
       "      <td>0.000000</td>\n",
       "      <td>0.00%</td>\n",
       "    </tr>\n",
       "    <tr>\n",
       "      <th>2</th>\n",
       "      <td>2021-08-01</td>\n",
       "      <td>HideTransitionModal</td>\n",
       "      <td>6993</td>\n",
       "      <td>5</td>\n",
       "      <td>0</td>\n",
       "      <td>0.000000</td>\n",
       "      <td>0.00%</td>\n",
       "    </tr>\n",
       "    <tr>\n",
       "      <th>3</th>\n",
       "      <td>2021-08-01</td>\n",
       "      <td>HideTransitionModal</td>\n",
       "      <td>DEFAULT</td>\n",
       "      <td>12</td>\n",
       "      <td>0</td>\n",
       "      <td>0.000000</td>\n",
       "      <td>0.00%</td>\n",
       "    </tr>\n",
       "    <tr>\n",
       "      <th>4</th>\n",
       "      <td>2021-08-01</td>\n",
       "      <td>address_hub</td>\n",
       "      <td>3574</td>\n",
       "      <td>189</td>\n",
       "      <td>143</td>\n",
       "      <td>0.756614</td>\n",
       "      <td>75.66%</td>\n",
       "    </tr>\n",
       "  </tbody>\n",
       "</table>\n",
       "</div>"
      ],
      "text/plain": [
       "         date           experiment  variant  participants  purchases  \\\n",
       "0  2021-08-01  HideTransitionModal     6646             2          0   \n",
       "1  2021-08-01  HideTransitionModal     6647             3          0   \n",
       "2  2021-08-01  HideTransitionModal     6993             5          0   \n",
       "3  2021-08-01  HideTransitionModal  DEFAULT            12          0   \n",
       "4  2021-08-01          address_hub     3574           189        143   \n",
       "\n",
       "   buy_rate buy_rate_percent  \n",
       "0  0.000000            0.00%  \n",
       "1  0.000000            0.00%  \n",
       "2  0.000000            0.00%  \n",
       "3  0.000000            0.00%  \n",
       "4  0.756614           75.66%  "
      ]
     },
     "execution_count": 2,
     "metadata": {},
     "output_type": "execute_result"
    }
   ],
   "source": [
    "df_results = pd.read_csv(\"/Users/juanmanuelpaiba/Documents/Juan_Paiba/AB_Testing_Meli/data/Outputs/grouped_inf.csv\", sep=\",\")\n",
    "df_AB_test = pd.read_csv(\"/Users/juanmanuelpaiba/Documents/Juan_Paiba/AB_Testing_Meli/data/Outputs/data_test.csv\", sep=\",\")\n",
    "\n",
    "print(df_results.shape)\n",
    "df_results.head()"
   ]
  },
  {
   "cell_type": "code",
   "execution_count": 3,
   "metadata": {},
   "outputs": [
    {
     "name": "stdout",
     "output_type": "stream",
     "text": [
      "(154964, 7)\n"
     ]
    },
    {
     "data": {
      "text/html": [
       "<div>\n",
       "<style scoped>\n",
       "    .dataframe tbody tr th:only-of-type {\n",
       "        vertical-align: middle;\n",
       "    }\n",
       "\n",
       "    .dataframe tbody tr th {\n",
       "        vertical-align: top;\n",
       "    }\n",
       "\n",
       "    .dataframe thead th {\n",
       "        text-align: right;\n",
       "    }\n",
       "</style>\n",
       "<table border=\"1\" class=\"dataframe\">\n",
       "  <thead>\n",
       "    <tr style=\"text-align: right;\">\n",
       "      <th></th>\n",
       "      <th>date</th>\n",
       "      <th>experiment</th>\n",
       "      <th>variant</th>\n",
       "      <th>user_id</th>\n",
       "      <th>path</th>\n",
       "      <th>purchase_funnel_flag</th>\n",
       "      <th>item_id</th>\n",
       "    </tr>\n",
       "  </thead>\n",
       "  <tbody>\n",
       "    <tr>\n",
       "      <th>0</th>\n",
       "      <td>2021-08-01</td>\n",
       "      <td>HideTransitionModal</td>\n",
       "      <td>6646</td>\n",
       "      <td>336575</td>\n",
       "      <td>mshops</td>\n",
       "      <td>0</td>\n",
       "      <td>0</td>\n",
       "    </tr>\n",
       "    <tr>\n",
       "      <th>1</th>\n",
       "      <td>2021-08-01</td>\n",
       "      <td>HideTransitionModal</td>\n",
       "      <td>6646</td>\n",
       "      <td>3677574</td>\n",
       "      <td>mshops</td>\n",
       "      <td>0</td>\n",
       "      <td>0</td>\n",
       "    </tr>\n",
       "    <tr>\n",
       "      <th>2</th>\n",
       "      <td>2021-08-01</td>\n",
       "      <td>HideTransitionModal</td>\n",
       "      <td>6647</td>\n",
       "      <td>2234611</td>\n",
       "      <td>mshops</td>\n",
       "      <td>0</td>\n",
       "      <td>0</td>\n",
       "    </tr>\n",
       "    <tr>\n",
       "      <th>3</th>\n",
       "      <td>2021-08-01</td>\n",
       "      <td>HideTransitionModal</td>\n",
       "      <td>6647</td>\n",
       "      <td>3023131</td>\n",
       "      <td>mshops</td>\n",
       "      <td>0</td>\n",
       "      <td>0</td>\n",
       "    </tr>\n",
       "    <tr>\n",
       "      <th>4</th>\n",
       "      <td>2021-08-01</td>\n",
       "      <td>HideTransitionModal</td>\n",
       "      <td>6647</td>\n",
       "      <td>9116431</td>\n",
       "      <td>mshops</td>\n",
       "      <td>0</td>\n",
       "      <td>0</td>\n",
       "    </tr>\n",
       "  </tbody>\n",
       "</table>\n",
       "</div>"
      ],
      "text/plain": [
       "         date           experiment variant  user_id    path  \\\n",
       "0  2021-08-01  HideTransitionModal    6646   336575  mshops   \n",
       "1  2021-08-01  HideTransitionModal    6646  3677574  mshops   \n",
       "2  2021-08-01  HideTransitionModal    6647  2234611  mshops   \n",
       "3  2021-08-01  HideTransitionModal    6647  3023131  mshops   \n",
       "4  2021-08-01  HideTransitionModal    6647  9116431  mshops   \n",
       "\n",
       "   purchase_funnel_flag  item_id  \n",
       "0                     0        0  \n",
       "1                     0        0  \n",
       "2                     0        0  \n",
       "3                     0        0  \n",
       "4                     0        0  "
      ]
     },
     "execution_count": 3,
     "metadata": {},
     "output_type": "execute_result"
    }
   ],
   "source": [
    "print(df_AB_test.shape)\n",
    "df_AB_test.head()"
   ]
  },
  {
   "cell_type": "code",
   "execution_count": 4,
   "metadata": {},
   "outputs": [
    {
     "data": {
      "text/plain": [
       "experiment\n",
       "HideTransitionModal                           8\n",
       "best-seller-aa-testing-fail-fast-edition      6\n",
       "carousel-v2p-above-the-fold                   6\n",
       "sort-by-ranking                               6\n",
       "viewItemPageMigrationDesktopReviewsNoTabs     4\n",
       "viewItemPageMigrationDesktopQuotableSRV       4\n",
       "viewItemPageMigrationReturns                  4\n",
       "viewItemPageMigrationDesktopHirableSRV        4\n",
       "web-layout-default-res                        4\n",
       "recommended-products                          4\n",
       "showV2V3BoxMessages                           4\n",
       "show-pads-search-list                         4\n",
       "show-pads-global                              4\n",
       "shippingCalculatorMigrationModalExperiment    4\n",
       "seller-reputation-change                      4\n",
       "search-pads-none-desktop-mla                  4\n",
       "results-target-web-motors                     4\n",
       "remove-ecn-tag                                4\n",
       "sa-on-vip                                     4\n",
       "checkOnBehavior                               4\n",
       "back-filters                                  4\n",
       "best-seller-fail-fast-edition-MLA             4\n",
       "official-store-orders-boost                   4\n",
       "official-stores                               2\n",
       "ads-adsearch-boost-incremental-desktop-mla    2\n",
       "assetsCdnDomainMLA                            2\n",
       "assetsCdnDomainMLU                            2\n",
       "viewItemPageMigrationDesktopRES               2\n",
       "user-track                                    2\n",
       "ungroup-products                              2\n",
       "tendency-landing-enabled-MLA                  2\n",
       "cbt-antiboost                                 2\n",
       "classiWordingFree                             2\n",
       "compatibilityWidget                           2\n",
       "cpgShowOnlyAddToCart                          2\n",
       "servicesQuoteUnification                      2\n",
       "seller-with-tooltip                           2\n",
       "enable-map-layout                             2\n",
       "secure_card                                   2\n",
       "escWebMLA                                     2\n",
       "search-list-algorithms                        2\n",
       "address_hub                                   2\n",
       "item-reputation                               2\n",
       "viewItemPageMigrationDesktopRESDev            1\n",
       "Name: count, dtype: int64"
      ]
     },
     "execution_count": 4,
     "metadata": {},
     "output_type": "execute_result"
    }
   ],
   "source": [
    "df_results.experiment.value_counts()"
   ]
  },
  {
   "cell_type": "code",
   "execution_count": 5,
   "metadata": {},
   "outputs": [],
   "source": [
    "df_results[\"buy_rate\"] = df_results[\"buy_rate\"].apply(lambda x: round(x, 2))\n",
    "total_participants_per_day = df_results.groupby(['date', 'experiment'])['participants'].sum().reset_index()\n",
    "total_participants_per_day.columns = ['date', 'experiment', 'total_participants']\n",
    "\n",
    "# Merge the total participants with the original dataframe\n",
    "df_results = df_results.merge(total_participants_per_day, on=['date', 'experiment'])\n",
    "df_results['participation_percent'] = (df_results['participants'] / df_results['total_participants']) * 100"
   ]
  },
  {
   "cell_type": "code",
   "execution_count": 6,
   "metadata": {},
   "outputs": [
    {
     "data": {
      "text/html": [
       "<div>\n",
       "<style scoped>\n",
       "    .dataframe tbody tr th:only-of-type {\n",
       "        vertical-align: middle;\n",
       "    }\n",
       "\n",
       "    .dataframe tbody tr th {\n",
       "        vertical-align: top;\n",
       "    }\n",
       "\n",
       "    .dataframe thead th {\n",
       "        text-align: right;\n",
       "    }\n",
       "</style>\n",
       "<table border=\"1\" class=\"dataframe\">\n",
       "  <thead>\n",
       "    <tr style=\"text-align: right;\">\n",
       "      <th></th>\n",
       "      <th>date</th>\n",
       "      <th>experiment</th>\n",
       "      <th>variant</th>\n",
       "      <th>participants</th>\n",
       "      <th>purchases</th>\n",
       "      <th>buy_rate</th>\n",
       "      <th>buy_rate_percent</th>\n",
       "      <th>total_participants</th>\n",
       "      <th>participation_percent</th>\n",
       "    </tr>\n",
       "  </thead>\n",
       "  <tbody>\n",
       "    <tr>\n",
       "      <th>42</th>\n",
       "      <td>2021-08-01</td>\n",
       "      <td>seller-reputation-change</td>\n",
       "      <td>4552</td>\n",
       "      <td>387</td>\n",
       "      <td>14</td>\n",
       "      <td>0.04</td>\n",
       "      <td>3.62%</td>\n",
       "      <td>1757</td>\n",
       "      <td>22.026181</td>\n",
       "    </tr>\n",
       "    <tr>\n",
       "      <th>43</th>\n",
       "      <td>2021-08-01</td>\n",
       "      <td>seller-reputation-change</td>\n",
       "      <td>4553</td>\n",
       "      <td>1370</td>\n",
       "      <td>75</td>\n",
       "      <td>0.05</td>\n",
       "      <td>5.47%</td>\n",
       "      <td>1757</td>\n",
       "      <td>77.973819</td>\n",
       "    </tr>\n",
       "    <tr>\n",
       "      <th>113</th>\n",
       "      <td>2021-08-02</td>\n",
       "      <td>seller-reputation-change</td>\n",
       "      <td>4552</td>\n",
       "      <td>1120</td>\n",
       "      <td>93</td>\n",
       "      <td>0.08</td>\n",
       "      <td>8.30%</td>\n",
       "      <td>5666</td>\n",
       "      <td>19.767031</td>\n",
       "    </tr>\n",
       "    <tr>\n",
       "      <th>114</th>\n",
       "      <td>2021-08-02</td>\n",
       "      <td>seller-reputation-change</td>\n",
       "      <td>4553</td>\n",
       "      <td>4546</td>\n",
       "      <td>321</td>\n",
       "      <td>0.07</td>\n",
       "      <td>7.06%</td>\n",
       "      <td>5666</td>\n",
       "      <td>80.232969</td>\n",
       "    </tr>\n",
       "  </tbody>\n",
       "</table>\n",
       "</div>"
      ],
      "text/plain": [
       "           date                experiment variant  participants  purchases  \\\n",
       "42   2021-08-01  seller-reputation-change    4552           387         14   \n",
       "43   2021-08-01  seller-reputation-change    4553          1370         75   \n",
       "113  2021-08-02  seller-reputation-change    4552          1120         93   \n",
       "114  2021-08-02  seller-reputation-change    4553          4546        321   \n",
       "\n",
       "     buy_rate buy_rate_percent  total_participants  participation_percent  \n",
       "42       0.04            3.62%                1757              22.026181  \n",
       "43       0.05            5.47%                1757              77.973819  \n",
       "113      0.08            8.30%                5666              19.767031  \n",
       "114      0.07            7.06%                5666              80.232969  "
      ]
     },
     "execution_count": 6,
     "metadata": {},
     "output_type": "execute_result"
    }
   ],
   "source": [
    "df_results[df_results.experiment == 'seller-reputation-change']"
   ]
  },
  {
   "cell_type": "code",
   "execution_count": 7,
   "metadata": {},
   "outputs": [
    {
     "name": "stdout",
     "output_type": "stream",
     "text": [
      "      date               experiment      variant participation_percent  participants buy_rate_percent  buy_rate\n",
      "2021-08-01 seller-reputation-change [4552, 4553]        [22.03, 77.97]          1757   [3.62%, 5.47%]     0.045\n",
      "2021-08-02 seller-reputation-change [4552, 4553]        [19.77, 80.23]          5666   [8.30%, 7.06%]     0.075\n",
      "\n",
      "Population Stability Index (PSI) between first and second vectors: 0.003091971450058314\n"
     ]
    },
    {
     "data": {
      "image/png": "[encoded data removed]",
      "text/plain": [
       "<Figure size 1200x600 with 2 Axes>"
      ]
     },
     "metadata": {},
     "output_type": "display_data"
    }
   ],
   "source": [
    "utilities.analisis_experimento(df = df_results,nombre_experimento='seller-reputation-change')"
   ]
  },
  {
   "cell_type": "code",
   "execution_count": 8,
   "metadata": {},
   "outputs": [
    {
     "name": "stdout",
     "output_type": "stream",
     "text": [
      "+-----------+-----------------------+-----------------+-------------------+-----------------+\n",
      "|   variant | concentration         |   average_value |   prob_being_best |   expected_loss |\n",
      "+===========+=======================+=================+===================+=================+\n",
      "|      4552 | {0: 1400.0, 1: 107.0} |       0.071002  |           0.72675 |       0.0011898 |\n",
      "+-----------+-----------------------+-----------------+-------------------+-----------------+\n",
      "|      4553 | {0: 5520.0, 1: 396.0} |       0.0669371 |           0.27325 |       0.0057528 |\n",
      "+-----------+-----------------------+-----------------+-------------------+-----------------+\n"
     ]
    }
   ],
   "source": [
    "utilities.AB_test_discreto(df = df_AB_test,nombre_experimento='seller-reputation-change')"
   ]
  },
  {
   "cell_type": "code",
   "execution_count": 9,
   "metadata": {},
   "outputs": [
    {
     "name": "stdout",
     "output_type": "stream",
     "text": [
      "+-----------+----------+-------------+-----------------+------------------+-------------------+-----------------+\n",
      "|   variant |   totals |   positives |   positive_rate |   posterior_mean |   prob_being_best |   expected_loss |\n",
      "+===========+==========+=============+=================+==================+===================+=================+\n",
      "|      4552 |     1507 |         107 |         0.071   |          0.07129 |           0.71835 |       0.0012165 |\n",
      "+-----------+----------+-------------+-----------------+------------------+-------------------+-----------------+\n",
      "|      4553 |     5916 |         396 |         0.06694 |          0.06701 |           0.28165 |       0.005572  |\n",
      "+-----------+----------+-------------+-----------------+------------------+-------------------+-----------------+\n"
     ]
    }
   ],
   "source": [
    "utilities.AB_test_binario(df = df_AB_test,nombre_experimento='seller-reputation-change')"
   ]
  },
  {
   "cell_type": "code",
   "execution_count": null,
   "metadata": {},
   "outputs": [],
   "source": []
  },
  {
   "cell_type": "code",
   "execution_count": null,
   "metadata": {},
   "outputs": [],
   "source": []
  },
  {
   "cell_type": "code",
   "execution_count": 10,
   "metadata": {},
   "outputs": [],
   "source": [
    "#df_AB_test[df_AB_test.experiment == nombre_experimento].variant.unique()"
   ]
  },
  {
   "cell_type": "code",
   "execution_count": 11,
   "metadata": {},
   "outputs": [],
   "source": [
    "#df_AB_test[(df_AB_test.experiment == nombre_experimento) &(df_AB_test.variant == '4552')].purchase_funnel_flag.values"
   ]
  },
  {
   "cell_type": "code",
   "execution_count": 12,
   "metadata": {},
   "outputs": [],
   "source": [
    "#discrete_test.add_variant_data('4552', df_AB_test[(df_AB_test.experiment == nombre_experimento) &(df_AB_test.variant == '4552')].purchase_funnel_flag.values)\n",
    "#discrete_test.add_variant_data('4553', df_AB_test[(df_AB_test.experiment == nombre_experimento) &(df_AB_test.variant == '4553')].purchase_funnel_flag.values)"
   ]
  },
  {
   "cell_type": "code",
   "execution_count": 13,
   "metadata": {},
   "outputs": [],
   "source": [
    "#results_ealuation = discrete_test.evaluate()\n",
    "#print(pd.DataFrame(results_ealuation).to_markdown(tablefmt=\"grid\", index=False))"
   ]
  },
  {
   "cell_type": "code",
   "execution_count": 14,
   "metadata": {},
   "outputs": [],
   "source": [
    "# Inatalamos el paquete que vamos a utilizar\n",
    "#!pip install bayesian_testing"
   ]
  },
  {
   "cell_type": "code",
   "execution_count": null,
   "metadata": {},
   "outputs": [],
   "source": []
  },
  {
   "cell_type": "code",
   "execution_count": null,
   "metadata": {},
   "outputs": [],
   "source": []
  },
  {
   "cell_type": "code",
   "execution_count": null,
   "metadata": {},
   "outputs": [],
   "source": []
  },
  {
   "cell_type": "code",
   "execution_count": null,
   "metadata": {},
   "outputs": [],
   "source": []
  },
  {
   "cell_type": "code",
   "execution_count": null,
   "metadata": {},
   "outputs": [],
   "source": []
  }
 ],
 "metadata": {
  "kernelspec": {
   "display_name": "Python 3",
   "language": "python",
   "name": "python3"
  },
  "language_info": {
   "codemirror_mode": {
    "name": "ipython",
    "version": 3
   },
   "file_extension": ".py",
   "mimetype": "text/x-python",
   "name": "python",
   "nbconvert_exporter": "python",
   "pygments_lexer": "ipython3",
   "version": "3.8.17"
  }
 },
 "nbformat": 4,
 "nbformat_minor": 2
}
