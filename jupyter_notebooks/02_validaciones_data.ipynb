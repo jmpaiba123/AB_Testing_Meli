{
 "cells": [
  {
   "cell_type": "code",
   "execution_count": null,
   "metadata": {},
   "outputs": [],
   "source": []
  },
  {
   "cell_type": "code",
   "execution_count": null,
   "metadata": {},
   "outputs": [],
   "source": []
  },
  {
   "cell_type": "markdown",
   "metadata": {},
   "source": [
    "\n",
    "* experimento almenos dos variantes / experimentos no tengan mucho default/ no se asigno variante / cant defaults\n",
    "* cuantos usuarios/ cadena de navegacion termino el dia siguiente"
   ]
  },
  {
   "cell_type": "code",
   "execution_count": 1,
   "metadata": {},
   "outputs": [],
   "source": [
    "# Preparamos el entorno\n",
    "import pandas as pd\n",
    "import numpy as np\n",
    "import seaborn as sns; sns.set()\n",
    "import matplotlib.pyplot as plt\n",
    "\n",
    "\n",
    "import sys\n",
    "import os\n",
    "module_path = os.path.abspath(os.path.join('/Users/juanmanuelpaiba/Documents/Juan_Paiba/AB_Testing_Meli/', 'python_scripts'))\n",
    "if module_path not in sys.path:\n",
    "    sys.path.append(module_path)\n",
    "import utilities\n",
    "\n",
    "pd.set_option('display.max_rows', None)\n",
    "pd.set_option('display.max_columns', None)\n",
    "#pd.set_option('display.width', 1000)"
   ]
  },
  {
   "cell_type": "code",
   "execution_count": 2,
   "metadata": {},
   "outputs": [
    {
     "name": "stdout",
     "output_type": "stream",
     "text": [
      "(143, 7)\n"
     ]
    },
    {
     "data": {
      "text/html": [
       "<div>\n",
       "<style scoped>\n",
       "    .dataframe tbody tr th:only-of-type {\n",
       "        vertical-align: middle;\n",
       "    }\n",
       "\n",
       "    .dataframe tbody tr th {\n",
       "        vertical-align: top;\n",
       "    }\n",
       "\n",
       "    .dataframe thead th {\n",
       "        text-align: right;\n",
       "    }\n",
       "</style>\n",
       "<table border=\"1\" class=\"dataframe\">\n",
       "  <thead>\n",
       "    <tr style=\"text-align: right;\">\n",
       "      <th></th>\n",
       "      <th>date</th>\n",
       "      <th>experiment</th>\n",
       "      <th>variant</th>\n",
       "      <th>participants</th>\n",
       "      <th>purchases</th>\n",
       "      <th>buy_rate</th>\n",
       "      <th>buy_rate_percent</th>\n",
       "    </tr>\n",
       "  </thead>\n",
       "  <tbody>\n",
       "    <tr>\n",
       "      <th>0</th>\n",
       "      <td>2021-08-01</td>\n",
       "      <td>HideTransitionModal</td>\n",
       "      <td>6646</td>\n",
       "      <td>2</td>\n",
       "      <td>0</td>\n",
       "      <td>0.000000</td>\n",
       "      <td>0.00%</td>\n",
       "    </tr>\n",
       "    <tr>\n",
       "      <th>1</th>\n",
       "      <td>2021-08-01</td>\n",
       "      <td>HideTransitionModal</td>\n",
       "      <td>6647</td>\n",
       "      <td>3</td>\n",
       "      <td>0</td>\n",
       "      <td>0.000000</td>\n",
       "      <td>0.00%</td>\n",
       "    </tr>\n",
       "    <tr>\n",
       "      <th>2</th>\n",
       "      <td>2021-08-01</td>\n",
       "      <td>HideTransitionModal</td>\n",
       "      <td>6993</td>\n",
       "      <td>5</td>\n",
       "      <td>0</td>\n",
       "      <td>0.000000</td>\n",
       "      <td>0.00%</td>\n",
       "    </tr>\n",
       "    <tr>\n",
       "      <th>3</th>\n",
       "      <td>2021-08-01</td>\n",
       "      <td>HideTransitionModal</td>\n",
       "      <td>DEFAULT</td>\n",
       "      <td>12</td>\n",
       "      <td>0</td>\n",
       "      <td>0.000000</td>\n",
       "      <td>0.00%</td>\n",
       "    </tr>\n",
       "    <tr>\n",
       "      <th>4</th>\n",
       "      <td>2021-08-01</td>\n",
       "      <td>address_hub</td>\n",
       "      <td>3574</td>\n",
       "      <td>189</td>\n",
       "      <td>143</td>\n",
       "      <td>0.756614</td>\n",
       "      <td>75.66%</td>\n",
       "    </tr>\n",
       "  </tbody>\n",
       "</table>\n",
       "</div>"
      ],
      "text/plain": [
       "         date           experiment  variant  participants  purchases  \\\n",
       "0  2021-08-01  HideTransitionModal     6646             2          0   \n",
       "1  2021-08-01  HideTransitionModal     6647             3          0   \n",
       "2  2021-08-01  HideTransitionModal     6993             5          0   \n",
       "3  2021-08-01  HideTransitionModal  DEFAULT            12          0   \n",
       "4  2021-08-01          address_hub     3574           189        143   \n",
       "\n",
       "   buy_rate buy_rate_percent  \n",
       "0  0.000000            0.00%  \n",
       "1  0.000000            0.00%  \n",
       "2  0.000000            0.00%  \n",
       "3  0.000000            0.00%  \n",
       "4  0.756614           75.66%  "
      ]
     },
     "execution_count": 2,
     "metadata": {},
     "output_type": "execute_result"
    }
   ],
   "source": [
    "url = \"https://raw.githubusercontent.com/jmpaiba123/AB_Testing_Meli/main/data/Outputs/grouped_inf.csv\"\n",
    "df_results = pd.read_csv(url, sep=\",\")\n",
    "\n",
    "print(df_results.shape)\n",
    "df_results.head()"
   ]
  },
  {
   "cell_type": "code",
   "execution_count": 3,
   "metadata": {},
   "outputs": [
    {
     "data": {
      "text/plain": [
       "experiment\n",
       "HideTransitionModal                           8\n",
       "best-seller-aa-testing-fail-fast-edition      6\n",
       "carousel-v2p-above-the-fold                   6\n",
       "sort-by-ranking                               6\n",
       "viewItemPageMigrationDesktopReviewsNoTabs     4\n",
       "viewItemPageMigrationDesktopQuotableSRV       4\n",
       "viewItemPageMigrationReturns                  4\n",
       "viewItemPageMigrationDesktopHirableSRV        4\n",
       "web-layout-default-res                        4\n",
       "recommended-products                          4\n",
       "showV2V3BoxMessages                           4\n",
       "show-pads-search-list                         4\n",
       "show-pads-global                              4\n",
       "shippingCalculatorMigrationModalExperiment    4\n",
       "seller-reputation-change                      4\n",
       "search-pads-none-desktop-mla                  4\n",
       "results-target-web-motors                     4\n",
       "remove-ecn-tag                                4\n",
       "sa-on-vip                                     4\n",
       "checkOnBehavior                               4\n",
       "back-filters                                  4\n",
       "best-seller-fail-fast-edition-MLA             4\n",
       "official-store-orders-boost                   4\n",
       "official-stores                               2\n",
       "ads-adsearch-boost-incremental-desktop-mla    2\n",
       "assetsCdnDomainMLA                            2\n",
       "assetsCdnDomainMLU                            2\n",
       "viewItemPageMigrationDesktopRES               2\n",
       "user-track                                    2\n",
       "ungroup-products                              2\n",
       "tendency-landing-enabled-MLA                  2\n",
       "cbt-antiboost                                 2\n",
       "classiWordingFree                             2\n",
       "compatibilityWidget                           2\n",
       "cpgShowOnlyAddToCart                          2\n",
       "servicesQuoteUnification                      2\n",
       "seller-with-tooltip                           2\n",
       "enable-map-layout                             2\n",
       "secure_card                                   2\n",
       "escWebMLA                                     2\n",
       "search-list-algorithms                        2\n",
       "address_hub                                   2\n",
       "item-reputation                               2\n",
       "viewItemPageMigrationDesktopRESDev            1\n",
       "Name: count, dtype: int64"
      ]
     },
     "execution_count": 3,
     "metadata": {},
     "output_type": "execute_result"
    }
   ],
   "source": [
    "df_results.experiment.value_counts()"
   ]
  },
  {
   "cell_type": "code",
   "execution_count": 5,
   "metadata": {},
   "outputs": [],
   "source": [
    "df_results[\"buy_rate\"] = df_results[\"buy_rate\"].apply(lambda x: round(x, 2))\n",
    "total_participants_per_day = df_results.groupby(['date', 'experiment'])['participants'].sum().reset_index()\n",
    "total_participants_per_day.columns = ['date', 'experiment', 'total_participants']\n",
    "\n",
    "# Merge the total participants with the original dataframe\n",
    "df_results = df_results.merge(total_participants_per_day, on=['date', 'experiment'])\n",
    "df_results['participation_percent'] = (df_results['participants'] / df_results['total_participants']) * 100"
   ]
  },
  {
   "cell_type": "code",
   "execution_count": 9,
   "metadata": {},
   "outputs": [
    {
     "data": {
      "text/html": [
       "<div>\n",
       "<style scoped>\n",
       "    .dataframe tbody tr th:only-of-type {\n",
       "        vertical-align: middle;\n",
       "    }\n",
       "\n",
       "    .dataframe tbody tr th {\n",
       "        vertical-align: top;\n",
       "    }\n",
       "\n",
       "    .dataframe thead th {\n",
       "        text-align: right;\n",
       "    }\n",
       "</style>\n",
       "<table border=\"1\" class=\"dataframe\">\n",
       "  <thead>\n",
       "    <tr style=\"text-align: right;\">\n",
       "      <th></th>\n",
       "      <th>date</th>\n",
       "      <th>experiment</th>\n",
       "      <th>variant</th>\n",
       "      <th>participants</th>\n",
       "      <th>purchases</th>\n",
       "      <th>buy_rate</th>\n",
       "      <th>buy_rate_percent</th>\n",
       "      <th>total_participants</th>\n",
       "      <th>participation_percent</th>\n",
       "    </tr>\n",
       "  </thead>\n",
       "  <tbody>\n",
       "    <tr>\n",
       "      <th>44</th>\n",
       "      <td>2021-08-01</td>\n",
       "      <td>seller-with-tooltip</td>\n",
       "      <td>4692</td>\n",
       "      <td>1523</td>\n",
       "      <td>127</td>\n",
       "      <td>0.08</td>\n",
       "      <td>8.34%</td>\n",
       "      <td>1523</td>\n",
       "      <td>100.0</td>\n",
       "    </tr>\n",
       "    <tr>\n",
       "      <th>115</th>\n",
       "      <td>2021-08-02</td>\n",
       "      <td>seller-with-tooltip</td>\n",
       "      <td>4692</td>\n",
       "      <td>4897</td>\n",
       "      <td>543</td>\n",
       "      <td>0.11</td>\n",
       "      <td>11.09%</td>\n",
       "      <td>4897</td>\n",
       "      <td>100.0</td>\n",
       "    </tr>\n",
       "  </tbody>\n",
       "</table>\n",
       "</div>"
      ],
      "text/plain": [
       "           date           experiment variant  participants  purchases  \\\n",
       "44   2021-08-01  seller-with-tooltip    4692          1523        127   \n",
       "115  2021-08-02  seller-with-tooltip    4692          4897        543   \n",
       "\n",
       "     buy_rate buy_rate_percent  total_participants  participation_percent  \n",
       "44       0.08            8.34%                1523                  100.0  \n",
       "115      0.11           11.09%                4897                  100.0  "
      ]
     },
     "execution_count": 9,
     "metadata": {},
     "output_type": "execute_result"
    }
   ],
   "source": [
    "df_results[df_results.experiment == 'seller-with-tooltip']"
   ]
  },
  {
   "cell_type": "code",
   "execution_count": 7,
   "metadata": {},
   "outputs": [
    {
     "name": "stdout",
     "output_type": "stream",
     "text": [
      "      date      experiment variant participation_percent  participants buy_rate_percent  buy_rate\n",
      "2021-08-01 official-stores  [4926]               [100.0]             7          [0.00%]      0.00\n",
      "2021-08-02 official-stores  [4926]               [100.0]            31          [3.23%]      0.03\n",
      "\n",
      "Population Stability Index (PSI) between first and second vectors: 0.0\n"
     ]
    },
    {
     "data": {
      "image/png": "[encoded data removed]",
      "text/plain": [
       "<Figure size 1400x700 with 2 Axes>"
      ]
     },
     "metadata": {},
     "output_type": "display_data"
    }
   ],
   "source": [
    "utilities.analisis_experimento(df= df_results,nombre_experimento='official-stores')"
   ]
  },
  {
   "cell_type": "code",
   "execution_count": null,
   "metadata": {},
   "outputs": [],
   "source": []
  },
  {
   "cell_type": "code",
   "execution_count": 16,
   "metadata": {},
   "outputs": [],
   "source": [
    "# Inatalamos el paquete que vamos a utilizar\n",
    "#!pip install bayesian_testing"
   ]
  },
  {
   "cell_type": "code",
   "execution_count": 20,
   "metadata": {},
   "outputs": [],
   "source": [
    "from bayesian_testing.experiments import BinaryDataTest\n",
    "import numpy as np\n",
    "import pandas as pd\n",
    "from bayesian_testing.experiments import DiscreteDataTest"
   ]
  },
  {
   "cell_type": "code",
   "execution_count": 12,
   "metadata": {},
   "outputs": [],
   "source": [
    "conv_test = BinaryDataTest()"
   ]
  },
  {
   "cell_type": "code",
   "execution_count": 46,
   "metadata": {},
   "outputs": [],
   "source": [
    "np.random.default_rng(52)\n",
    "\n",
    "values = [1,2,3,4,5,6]"
   ]
  },
  {
   "cell_type": "code",
   "execution_count": 47,
   "metadata": {},
   "outputs": [],
   "source": [
    "die_A_rolls = list(np.random.choice(values, 1000, p=[1/6, 1/6, 1/6, 1/6, 1/6, 1/6]))\n",
    "die_B_rolls = list(np.random.choice(values, 1200, p=[0.2, 0.2, 0.1, 0.1, 0.2, 0.2]))\n",
    "die_C_rolls = list(np.random.choice(values, 500, p=[0.2, 0.1, 0.1, 0.2, 0.2, 0.2]))"
   ]
  },
  {
   "cell_type": "code",
   "execution_count": null,
   "metadata": {},
   "outputs": [],
   "source": []
  },
  {
   "cell_type": "code",
   "execution_count": 48,
   "metadata": {},
   "outputs": [],
   "source": [
    "discrete_test = DiscreteDataTest(values)"
   ]
  },
  {
   "cell_type": "code",
   "execution_count": 49,
   "metadata": {},
   "outputs": [],
   "source": [
    "discrete_test.add_variant_data('A', die_A_rolls)\n",
    "discrete_test.add_variant_data('B', die_B_rolls)\n",
    "discrete_test.add_variant_data('C', die_C_rolls)"
   ]
  },
  {
   "cell_type": "code",
   "execution_count": 50,
   "metadata": {},
   "outputs": [
    {
     "data": {
      "text/plain": [
       "{'A': 0.0912, 'B': 0.50275, 'C': 0.40605}"
      ]
     },
     "execution_count": 50,
     "metadata": {},
     "output_type": "execute_result"
    }
   ],
   "source": [
    "discrete_test.probabs_of_being_best(sim_count = 20000, seed=52)"
   ]
  },
  {
   "cell_type": "code",
   "execution_count": 51,
   "metadata": {},
   "outputs": [
    {
     "data": {
      "text/plain": [
       "{'A': 0.1005533, 'B': 0.0334918, 'C': 0.0485045}"
      ]
     },
     "execution_count": 51,
     "metadata": {},
     "output_type": "execute_result"
    }
   ],
   "source": [
    "discrete_test.expected_loss(sim_count = 20000, seed=52)"
   ]
  },
  {
   "cell_type": "code",
   "execution_count": 54,
   "metadata": {},
   "outputs": [
    {
     "name": "stdout",
     "output_type": "stream",
     "text": [
      "+-----------+--------------------------------------------------------------+-----------------+-------------------+-----------------+\n",
      "| variant   | concentration                                                |   average_value |   prob_being_best |   expected_loss |\n",
      "+===========+==============================================================+=================+===================+=================+\n",
      "| A         | {1: 150.0, 2: 172.0, 3: 170.0, 4: 172.0, 5: 179.0, 6: 157.0} |         3.529   |           0.09275 |       0.101399  |\n",
      "+-----------+--------------------------------------------------------------+-----------------+-------------------+-----------------+\n",
      "| B         | {1: 205.0, 2: 244.0, 3: 121.0, 4: 138.0, 5: 244.0, 6: 248.0} |         3.59667 |           0.50215 |       0.03383   |\n",
      "+-----------+--------------------------------------------------------------+-----------------+-------------------+-----------------+\n",
      "| C         | {1: 100.0, 2: 55.0, 3: 68.0, 4: 100.0, 5: 85.0, 6: 92.0}     |         3.582   |           0.4051  |       0.0487413 |\n",
      "+-----------+--------------------------------------------------------------+-----------------+-------------------+-----------------+\n"
     ]
    }
   ],
   "source": [
    "results_ealuation = discrete_test.evaluate()\n",
    "print(pd.DataFrame(results_ealuation).to_markdown(tablefmt=\"grid\", index=False))"
   ]
  },
  {
   "cell_type": "code",
   "execution_count": 53,
   "metadata": {},
   "outputs": [
    {
     "name": "stdout",
     "output_type": "stream",
     "text": [
      "Collecting tabulate\n",
      "  Downloading tabulate-0.9.0-py3-none-any.whl (35 kB)\n",
      "Installing collected packages: tabulate\n",
      "Successfully installed tabulate-0.9.0\n",
      "\n",
      "\u001b[1m[\u001b[0m\u001b[34;49mnotice\u001b[0m\u001b[1;39;49m]\u001b[0m\u001b[39;49m A new release of pip is available: \u001b[0m\u001b[31;49m23.0.1\u001b[0m\u001b[39;49m -> \u001b[0m\u001b[32;49m24.0\u001b[0m\n",
      "\u001b[1m[\u001b[0m\u001b[34;49mnotice\u001b[0m\u001b[1;39;49m]\u001b[0m\u001b[39;49m To update, run: \u001b[0m\u001b[32;49mpip install --upgrade pip\u001b[0m\n",
      "Note: you may need to restart the kernel to use updated packages.\n"
     ]
    }
   ],
   "source": [
    "pip install tabulate"
   ]
  },
  {
   "cell_type": "code",
   "execution_count": null,
   "metadata": {},
   "outputs": [],
   "source": []
  },
  {
   "cell_type": "code",
   "execution_count": null,
   "metadata": {},
   "outputs": [],
   "source": []
  }
 ],
 "metadata": {
  "kernelspec": {
   "display_name": "Python 3",
   "language": "python",
   "name": "python3"
  },
  "language_info": {
   "codemirror_mode": {
    "name": "ipython",
    "version": 3
   },
   "file_extension": ".py",
   "mimetype": "text/x-python",
   "name": "python",
   "nbconvert_exporter": "python",
   "pygments_lexer": "ipython3",
   "version": "3.8.17"
  }
 },
 "nbformat": 4,
 "nbformat_minor": 2
}
