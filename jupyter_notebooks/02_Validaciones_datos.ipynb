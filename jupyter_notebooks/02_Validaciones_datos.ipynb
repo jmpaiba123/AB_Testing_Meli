{
 "cells": [
  {
   "cell_type": "markdown",
   "metadata": {},
   "source": [
    "## **Validación de datos y experimentos**"
   ]
  },
  {
   "cell_type": "markdown",
   "metadata": {},
   "source": [
    "### importando librerias\n",
    "\n",
    "Se importan las librerias a utilizar durate el proceso de exploración de datos, dentro de las librerias importamos **utilities**, libreria construida específicamente para propósitos de nuestro proyecto."
   ]
  },
  {
   "cell_type": "code",
   "execution_count": 2,
   "metadata": {},
   "outputs": [],
   "source": [
    "# Preparamos el entorno\n",
    "import pandas as pd\n",
    "import numpy as np\n",
    "import seaborn as sns; sns.set()\n",
    "import matplotlib.pyplot as plt\n",
    "import sys\n",
    "import os\n",
    "module_path = os.path.abspath(os.path.join('/Users/juanmanuelpaiba/Documents/Juan_Paiba/AB_Testing_Meli/', 'python_scripts'))\n",
    "if module_path not in sys.path:\n",
    "    sys.path.append(module_path)\n",
    "from utilities import AnalisisExperimento # type: ignore\n",
    "\n",
    "pd.set_option('display.max_rows', None)\n",
    "pd.set_option('display.max_columns', None)"
   ]
  },
  {
   "cell_type": "markdown",
   "metadata": {},
   "source": [
    "### **Control de registros y consistencia entre dataframe detallada vs agrupada**"
   ]
  },
  {
   "cell_type": "code",
   "execution_count": 3,
   "metadata": {},
   "outputs": [],
   "source": [
    "df_grouped_experiments = pd.read_csv(\"/Users/juanmanuelpaiba/Documents/Juan_Paiba/AB_Testing_Meli/data/Outputs/grouped_inf.csv\", sep=\",\")\n",
    "df_detailed_experiments = pd.read_csv(\"/Users/juanmanuelpaiba/Documents/Juan_Paiba/AB_Testing_Meli/data/Outputs/data_test.csv\", sep=\",\")"
   ]
  },
  {
   "cell_type": "code",
   "execution_count": 4,
   "metadata": {},
   "outputs": [
    {
     "name": "stdout",
     "output_type": "stream",
     "text": [
      "(154964, 7)\n",
      "         date           experiment variant  user_id    path  \\\n",
      "0  2021-08-01  HideTransitionModal    6646   336575  mshops   \n",
      "1  2021-08-01  HideTransitionModal    6646  3677574  mshops   \n",
      "2  2021-08-01  HideTransitionModal    6647  2234611  mshops   \n",
      "3  2021-08-01  HideTransitionModal    6647  3023131  mshops   \n",
      "4  2021-08-01  HideTransitionModal    6647  9116431  mshops   \n",
      "\n",
      "   purchase_funnel_flag  item_id  \n",
      "0                     0        0  \n",
      "1                     0        0  \n",
      "2                     0        0  \n",
      "3                     0        0  \n",
      "4                     0        0  \n",
      "Cantidad única de experimentos : 44\n",
      "\n",
      "Cantidad única de experimentos por día:\n",
      "      date  experiment\n",
      "2021-08-01          43\n",
      "2021-08-02          44\n"
     ]
    }
   ],
   "source": [
    "print(df_detailed_experiments.shape)\n",
    "print(df_detailed_experiments.head())\n",
    "# Cantidad única de experimentos \n",
    "unique_experiments = df_detailed_experiments[\"experiment\"].nunique()\n",
    "print(f\"Cantidad única de experimentos : {unique_experiments}\\n\")\n",
    "# cantidad única de experimentos por día\n",
    "experiments_per_day = df_detailed_experiments.groupby(\"date\")[\"experiment\"].nunique().reset_index()\n",
    "print(\"Cantidad única de experimentos por día:\")\n",
    "print(experiments_per_day.to_string(index=False))"
   ]
  },
  {
   "cell_type": "code",
   "execution_count": 5,
   "metadata": {},
   "outputs": [
    {
     "name": "stdout",
     "output_type": "stream",
     "text": [
      "(143, 7)\n",
      "         date           experiment  variant  participants  purchases  \\\n",
      "0  2021-08-01  HideTransitionModal     6646             2          0   \n",
      "1  2021-08-01  HideTransitionModal     6647             3          0   \n",
      "2  2021-08-01  HideTransitionModal     6993             5          0   \n",
      "3  2021-08-01  HideTransitionModal  DEFAULT            12          0   \n",
      "4  2021-08-01          address_hub     3574           189        143   \n",
      "\n",
      "   buy_rate buy_rate_percent  \n",
      "0  0.000000            0.00%  \n",
      "1  0.000000            0.00%  \n",
      "2  0.000000            0.00%  \n",
      "3  0.000000            0.00%  \n",
      "4  0.756614           75.66%  \n",
      "Cantidad única de experimentos : 44\n",
      "\n",
      "Cantidad única de experimentos por día:\n",
      "      date  experiment\n",
      "2021-08-01          43\n",
      "2021-08-02          44\n"
     ]
    }
   ],
   "source": [
    "print(df_grouped_experiments.shape)\n",
    "print(df_grouped_experiments.head())\n",
    "# Cantidad única de experimentos \n",
    "unique_experiments = df_grouped_experiments[\"experiment\"].nunique()\n",
    "print(f\"Cantidad única de experimentos : {unique_experiments}\\n\")\n",
    "# cantidad única de experimentos por día\n",
    "experiments_per_day = df_grouped_experiments.groupby(\"date\")[\"experiment\"].nunique().reset_index()\n",
    "print(\"Cantidad única de experimentos por día:\")\n",
    "print(experiments_per_day.to_string(index=False))"
   ]
  },
  {
   "cell_type": "code",
   "execution_count": 6,
   "metadata": {},
   "outputs": [
    {
     "data": {
      "text/plain": [
       "experiment\n",
       "HideTransitionModal                           8\n",
       "best-seller-aa-testing-fail-fast-edition      6\n",
       "carousel-v2p-above-the-fold                   6\n",
       "sort-by-ranking                               6\n",
       "viewItemPageMigrationDesktopReviewsNoTabs     4\n",
       "viewItemPageMigrationDesktopQuotableSRV       4\n",
       "viewItemPageMigrationReturns                  4\n",
       "viewItemPageMigrationDesktopHirableSRV        4\n",
       "web-layout-default-res                        4\n",
       "recommended-products                          4\n",
       "showV2V3BoxMessages                           4\n",
       "show-pads-search-list                         4\n",
       "show-pads-global                              4\n",
       "shippingCalculatorMigrationModalExperiment    4\n",
       "seller-reputation-change                      4\n",
       "search-pads-none-desktop-mla                  4\n",
       "results-target-web-motors                     4\n",
       "remove-ecn-tag                                4\n",
       "sa-on-vip                                     4\n",
       "checkOnBehavior                               4\n",
       "back-filters                                  4\n",
       "best-seller-fail-fast-edition-MLA             4\n",
       "official-store-orders-boost                   4\n",
       "official-stores                               2\n",
       "ads-adsearch-boost-incremental-desktop-mla    2\n",
       "assetsCdnDomainMLA                            2\n",
       "assetsCdnDomainMLU                            2\n",
       "viewItemPageMigrationDesktopRES               2\n",
       "user-track                                    2\n",
       "ungroup-products                              2\n",
       "tendency-landing-enabled-MLA                  2\n",
       "cbt-antiboost                                 2\n",
       "classiWordingFree                             2\n",
       "compatibilityWidget                           2\n",
       "cpgShowOnlyAddToCart                          2\n",
       "servicesQuoteUnification                      2\n",
       "seller-with-tooltip                           2\n",
       "enable-map-layout                             2\n",
       "secure_card                                   2\n",
       "escWebMLA                                     2\n",
       "search-list-algorithms                        2\n",
       "address_hub                                   2\n",
       "item-reputation                               2\n",
       "viewItemPageMigrationDesktopRESDev            1\n",
       "Name: count, dtype: int64"
      ]
     },
     "execution_count": 6,
     "metadata": {},
     "output_type": "execute_result"
    }
   ],
   "source": [
    "df_grouped_experiments.experiment.value_counts()"
   ]
  },
  {
   "cell_type": "code",
   "execution_count": 7,
   "metadata": {},
   "outputs": [],
   "source": [
    "# se calculan algunas variables adicionales, como la cantidad de participantes totales y su porcentaje de participación por día\n",
    "df_grouped_experiments[\"buy_rate\"] = df_grouped_experiments[\"buy_rate\"].apply(lambda x: round(x, 2))\n",
    "total_participants_per_day = df_grouped_experiments.groupby(['date', 'experiment'])['participants'].sum().reset_index()\n",
    "total_participants_per_day.columns = ['date', 'experiment', 'total_participants']\n",
    "df_grouped_experiments = df_grouped_experiments.merge(total_participants_per_day, on=['date', 'experiment'])\n",
    "df_grouped_experiments['participation_percent'] = (df_grouped_experiments['participants'] / df_grouped_experiments['total_participants']) * 100"
   ]
  },
  {
   "cell_type": "code",
   "execution_count": 8,
   "metadata": {},
   "outputs": [
    {
     "data": {
      "text/html": [
       "<div>\n",
       "<style scoped>\n",
       "    .dataframe tbody tr th:only-of-type {\n",
       "        vertical-align: middle;\n",
       "    }\n",
       "\n",
       "    .dataframe tbody tr th {\n",
       "        vertical-align: top;\n",
       "    }\n",
       "\n",
       "    .dataframe thead th {\n",
       "        text-align: right;\n",
       "    }\n",
       "</style>\n",
       "<table border=\"1\" class=\"dataframe\">\n",
       "  <thead>\n",
       "    <tr style=\"text-align: right;\">\n",
       "      <th></th>\n",
       "      <th>date</th>\n",
       "      <th>experiment</th>\n",
       "      <th>variant</th>\n",
       "      <th>participants</th>\n",
       "      <th>purchases</th>\n",
       "      <th>buy_rate</th>\n",
       "      <th>buy_rate_percent</th>\n",
       "      <th>total_participants</th>\n",
       "      <th>participation_percent</th>\n",
       "    </tr>\n",
       "  </thead>\n",
       "  <tbody>\n",
       "    <tr>\n",
       "      <th>6</th>\n",
       "      <td>2021-08-01</td>\n",
       "      <td>assetsCdnDomainMLA</td>\n",
       "      <td>DEFAULT</td>\n",
       "      <td>1766</td>\n",
       "      <td>89</td>\n",
       "      <td>0.05</td>\n",
       "      <td>5.04%</td>\n",
       "      <td>1766</td>\n",
       "      <td>100.0</td>\n",
       "    </tr>\n",
       "    <tr>\n",
       "      <th>77</th>\n",
       "      <td>2021-08-02</td>\n",
       "      <td>assetsCdnDomainMLA</td>\n",
       "      <td>DEFAULT</td>\n",
       "      <td>5643</td>\n",
       "      <td>413</td>\n",
       "      <td>0.07</td>\n",
       "      <td>7.32%</td>\n",
       "      <td>5643</td>\n",
       "      <td>100.0</td>\n",
       "    </tr>\n",
       "  </tbody>\n",
       "</table>\n",
       "</div>"
      ],
      "text/plain": [
       "          date          experiment  variant  participants  purchases  \\\n",
       "6   2021-08-01  assetsCdnDomainMLA  DEFAULT          1766         89   \n",
       "77  2021-08-02  assetsCdnDomainMLA  DEFAULT          5643        413   \n",
       "\n",
       "    buy_rate buy_rate_percent  total_participants  participation_percent  \n",
       "6       0.05            5.04%                1766                  100.0  \n",
       "77      0.07            7.32%                5643                  100.0  "
      ]
     },
     "execution_count": 8,
     "metadata": {},
     "output_type": "execute_result"
    }
   ],
   "source": [
    "df_grouped_experiments[df_grouped_experiments.experiment == 'assetsCdnDomainMLA']"
   ]
  },
  {
   "cell_type": "markdown",
   "metadata": {},
   "source": [
    "### **validando variante DEFAULT**\n",
    "\n",
    "En el contexto de lo revisado hasta el momento, entendemos la categoría DEFAULT como una variante que no fue exitosa al momento de generar el experimento, por lo que es necesario validar que comportamiento tiene dentro de cada uno de los experimentos planteados."
   ]
  },
  {
   "cell_type": "code",
   "execution_count": 9,
   "metadata": {},
   "outputs": [
    {
     "data": {
      "text/html": [
       "<div>\n",
       "<style scoped>\n",
       "    .dataframe tbody tr th:only-of-type {\n",
       "        vertical-align: middle;\n",
       "    }\n",
       "\n",
       "    .dataframe tbody tr th {\n",
       "        vertical-align: top;\n",
       "    }\n",
       "\n",
       "    .dataframe thead th {\n",
       "        text-align: right;\n",
       "    }\n",
       "</style>\n",
       "<table border=\"1\" class=\"dataframe\">\n",
       "  <thead>\n",
       "    <tr style=\"text-align: right;\">\n",
       "      <th></th>\n",
       "      <th>date</th>\n",
       "      <th>total_participants</th>\n",
       "      <th>total_purchases</th>\n",
       "      <th>default_participants</th>\n",
       "      <th>default_count</th>\n",
       "      <th>default_participation_percent</th>\n",
       "    </tr>\n",
       "  </thead>\n",
       "  <tbody>\n",
       "    <tr>\n",
       "      <th>0</th>\n",
       "      <td>2021-08-01</td>\n",
       "      <td>1757</td>\n",
       "      <td>89</td>\n",
       "      <td>0</td>\n",
       "      <td>2</td>\n",
       "      <td>0.0</td>\n",
       "    </tr>\n",
       "    <tr>\n",
       "      <th>1</th>\n",
       "      <td>2021-08-02</td>\n",
       "      <td>5666</td>\n",
       "      <td>414</td>\n",
       "      <td>0</td>\n",
       "      <td>2</td>\n",
       "      <td>0.0</td>\n",
       "    </tr>\n",
       "    <tr>\n",
       "      <th>2</th>\n",
       "      <td>Total</td>\n",
       "      <td>7423</td>\n",
       "      <td>503</td>\n",
       "      <td>0</td>\n",
       "      <td>4</td>\n",
       "      <td>0.0</td>\n",
       "    </tr>\n",
       "  </tbody>\n",
       "</table>\n",
       "</div>"
      ],
      "text/plain": [
       "         date  total_participants  total_purchases  default_participants  \\\n",
       "0  2021-08-01                1757               89                     0   \n",
       "1  2021-08-02                5666              414                     0   \n",
       "2       Total                7423              503                     0   \n",
       "\n",
       "   default_count  default_participation_percent  \n",
       "0              2                            0.0  \n",
       "1              2                            0.0  \n",
       "2              4                            0.0  "
      ]
     },
     "execution_count": 9,
     "metadata": {},
     "output_type": "execute_result"
    }
   ],
   "source": [
    "analyzer = AnalisisExperimento(df_grouped_experiments)\n",
    "analyzer.default_count('seller-reputation-change')"
   ]
  },
  {
   "cell_type": "markdown",
   "metadata": {},
   "source": [
    "se creó una función dentro nuestra librería exclusiva de nuestro proceso **utilities**, default_count, la cual nos ayudará a validar la presencia de la variante DEFAULT para cada experimento, en el caso del experimento 'seller-reputation-change', hemos encontrado de manera exitosa que no existe DEFAULT. Si embargo, es necesario validar cada uno de los 44 experimentos y tomar una la mejor decisión, en pro de realizar un ejercicio confiable.\n",
    "\n",
    "De esta manera definimos un límite cercano al 5%, y excluiremos la información que no cumpla con lo mencionado anteriormente."
   ]
  },
  {
   "cell_type": "code",
   "execution_count": 10,
   "metadata": {},
   "outputs": [
    {
     "name": "stdout",
     "output_type": "stream",
     "text": [
      "['HideTransitionModal', 'assetsCdnDomainMLA', 'assetsCdnDomainMLU', 'servicesQuoteUnification']\n"
     ]
    }
   ],
   "source": [
    "experiments_with_high_default = analyzer.get_experiments_with_high_default(threshold = 5)\n",
    "print(experiments_with_high_default)"
   ]
  },
  {
   "cell_type": "code",
   "execution_count": 11,
   "metadata": {},
   "outputs": [
    {
     "data": {
      "text/html": [
       "<div>\n",
       "<style scoped>\n",
       "    .dataframe tbody tr th:only-of-type {\n",
       "        vertical-align: middle;\n",
       "    }\n",
       "\n",
       "    .dataframe tbody tr th {\n",
       "        vertical-align: top;\n",
       "    }\n",
       "\n",
       "    .dataframe thead th {\n",
       "        text-align: right;\n",
       "    }\n",
       "</style>\n",
       "<table border=\"1\" class=\"dataframe\">\n",
       "  <thead>\n",
       "    <tr style=\"text-align: right;\">\n",
       "      <th></th>\n",
       "      <th>date</th>\n",
       "      <th>total_participants</th>\n",
       "      <th>total_purchases</th>\n",
       "      <th>default_participants</th>\n",
       "      <th>default_count</th>\n",
       "      <th>default_participation_percent</th>\n",
       "    </tr>\n",
       "  </thead>\n",
       "  <tbody>\n",
       "    <tr>\n",
       "      <th>0</th>\n",
       "      <td>2021-08-01</td>\n",
       "      <td>22</td>\n",
       "      <td>0</td>\n",
       "      <td>12</td>\n",
       "      <td>4</td>\n",
       "      <td>54.545455</td>\n",
       "    </tr>\n",
       "    <tr>\n",
       "      <th>1</th>\n",
       "      <td>2021-08-02</td>\n",
       "      <td>80</td>\n",
       "      <td>2</td>\n",
       "      <td>31</td>\n",
       "      <td>4</td>\n",
       "      <td>38.750000</td>\n",
       "    </tr>\n",
       "    <tr>\n",
       "      <th>2</th>\n",
       "      <td>Total</td>\n",
       "      <td>102</td>\n",
       "      <td>2</td>\n",
       "      <td>43</td>\n",
       "      <td>8</td>\n",
       "      <td>42.156863</td>\n",
       "    </tr>\n",
       "  </tbody>\n",
       "</table>\n",
       "</div>"
      ],
      "text/plain": [
       "         date  total_participants  total_purchases  default_participants  \\\n",
       "0  2021-08-01                  22                0                    12   \n",
       "1  2021-08-02                  80                2                    31   \n",
       "2       Total                 102                2                    43   \n",
       "\n",
       "   default_count  default_participation_percent  \n",
       "0              4                      54.545455  \n",
       "1              4                      38.750000  \n",
       "2              8                      42.156863  "
      ]
     },
     "execution_count": 11,
     "metadata": {},
     "output_type": "execute_result"
    }
   ],
   "source": [
    "#analyzer.default_count('HideTransitionModal')\n",
    "analyzer.default_count('HideTransitionModal')"
   ]
  },
  {
   "cell_type": "markdown",
   "metadata": {},
   "source": [
    "HideTransitionModal es un experimento con participacion de default de más de 40%, por lo tanto no es posible tener confianza en los resulatdos en los experimentos obtenidos en estos datos, los otros 3 experimentos presentan un DEFAULT de 100%, por lo que pueden ser excluidos de nuestro analisis"
   ]
  },
  {
   "cell_type": "code",
   "execution_count": 12,
   "metadata": {},
   "outputs": [],
   "source": [
    "df_grouped_experiments_00 = df_grouped_experiments[~df_grouped_experiments['experiment'].isin(experiments_with_high_default)]\n",
    "df_detailed_experiments_00 = df_detailed_experiments[~df_detailed_experiments['experiment'].isin(experiments_with_high_default)]"
   ]
  },
  {
   "cell_type": "markdown",
   "metadata": {},
   "source": [
    "### **Experimentos con al menos dos variantes**\n",
    "\n",
    "Dado que la finalidad de nuestro ejercicio es llegar a validar cual de las n variantes fue mejor, seguiremos reduciendo nuestra población de estudio, considerando en este caso particular todos aquellos experimentos que tengan al menos dos variantes a comparar, la revisión para todos aquellos restantes podrá ser considerada en otro momento."
   ]
  },
  {
   "cell_type": "code",
   "execution_count": 13,
   "metadata": {},
   "outputs": [],
   "source": [
    "experiments_with_two_variants = df_grouped_experiments_00[df_grouped_experiments_00.variant!='DEFAULT'].groupby('experiment')['variant'].nunique()\n",
    "experiments_with_two_variants = experiments_with_two_variants[experiments_with_two_variants >= 2].index.tolist()"
   ]
  },
  {
   "cell_type": "code",
   "execution_count": 14,
   "metadata": {},
   "outputs": [
    {
     "data": {
      "text/plain": [
       "['best-seller-aa-testing-fail-fast-edition',\n",
       " 'carousel-v2p-above-the-fold',\n",
       " 'checkOnBehavior',\n",
       " 'official-store-orders-boost',\n",
       " 'recommended-products',\n",
       " 'results-target-web-motors',\n",
       " 'sa-on-vip',\n",
       " 'search-pads-none-desktop-mla',\n",
       " 'seller-reputation-change',\n",
       " 'show-pads-global',\n",
       " 'show-pads-search-list',\n",
       " 'sort-by-ranking',\n",
       " 'viewItemPageMigrationDesktopHirableSRV',\n",
       " 'viewItemPageMigrationDesktopQuotableSRV',\n",
       " 'web-layout-default-res']"
      ]
     },
     "execution_count": 14,
     "metadata": {},
     "output_type": "execute_result"
    }
   ],
   "source": [
    "experiments_with_two_variants"
   ]
  },
  {
   "cell_type": "code",
   "execution_count": 15,
   "metadata": {},
   "outputs": [],
   "source": [
    "df_grouped_experiments_01 = df_grouped_experiments_00[df_grouped_experiments_00['experiment'].isin(experiments_with_two_variants)]\n",
    "df_detailed_experiments_01 = df_detailed_experiments_00[df_detailed_experiments_00['experiment'].isin(experiments_with_two_variants)]"
   ]
  },
  {
   "cell_type": "code",
   "execution_count": 16,
   "metadata": {},
   "outputs": [
    {
     "data": {
      "text/plain": [
       "experiment\n",
       "sort-by-ranking                             7568\n",
       "recommended-products                        7544\n",
       "seller-reputation-change                    7423\n",
       "carousel-v2p-above-the-fold                 6300\n",
       "best-seller-aa-testing-fail-fast-edition    6049\n",
       "show-pads-global                            5367\n",
       "search-pads-none-desktop-mla                5255\n",
       "show-pads-search-list                       5255\n",
       "sa-on-vip                                   1882\n",
       "official-store-orders-boost                  871\n",
       "results-target-web-motors                    776\n",
       "web-layout-default-res                       256\n",
       "checkOnBehavior                              231\n",
       "viewItemPageMigrationDesktopQuotableSRV       33\n",
       "viewItemPageMigrationDesktopHirableSRV        32\n",
       "Name: count, dtype: int64"
      ]
     },
     "execution_count": 16,
     "metadata": {},
     "output_type": "execute_result"
    }
   ],
   "source": [
    "df_detailed_experiments_01.experiment.value_counts()"
   ]
  },
  {
   "cell_type": "markdown",
   "metadata": {},
   "source": [
    "### **Presencia de Usuarios en múltiples variantes**\n",
    "\n",
    "Algo de igual forma importante para mantener la integridad de nuestros estudios, es garantizar que un usuario fue expueste exlusivamente a una única variante de los experimentos realizados, por ello seguiremos excluyendo información, y ahora excluiremos todos aquellos que no cumplan la condicion mencionada anteriormente"
   ]
  },
  {
   "cell_type": "code",
   "execution_count": 17,
   "metadata": {},
   "outputs": [],
   "source": [
    "df_grouped_experiments_02 = df_grouped_experiments_01[df_grouped_experiments_01.variant != 'DEFAULT']\n",
    "df_detailed_experiments_02 = df_detailed_experiments_01[df_detailed_experiments_01.variant != 'DEFAULT']"
   ]
  },
  {
   "cell_type": "code",
   "execution_count": 18,
   "metadata": {},
   "outputs": [
    {
     "data": {
      "text/html": [
       "<div>\n",
       "<style scoped>\n",
       "    .dataframe tbody tr th:only-of-type {\n",
       "        vertical-align: middle;\n",
       "    }\n",
       "\n",
       "    .dataframe tbody tr th {\n",
       "        vertical-align: top;\n",
       "    }\n",
       "\n",
       "    .dataframe thead th {\n",
       "        text-align: right;\n",
       "    }\n",
       "</style>\n",
       "<table border=\"1\" class=\"dataframe\">\n",
       "  <thead>\n",
       "    <tr style=\"text-align: right;\">\n",
       "      <th></th>\n",
       "      <th>experiment</th>\n",
       "      <th>user_id</th>\n",
       "      <th>date</th>\n",
       "      <th>variant</th>\n",
       "    </tr>\n",
       "  </thead>\n",
       "  <tbody>\n",
       "    <tr>\n",
       "      <th>24</th>\n",
       "      <td>best-seller-aa-testing-fail-fast-edition</td>\n",
       "      <td>2652</td>\n",
       "      <td>2021-08-02</td>\n",
       "      <td>2</td>\n",
       "    </tr>\n",
       "    <tr>\n",
       "      <th>26</th>\n",
       "      <td>best-seller-aa-testing-fail-fast-edition</td>\n",
       "      <td>2759</td>\n",
       "      <td>2021-08-02</td>\n",
       "      <td>2</td>\n",
       "    </tr>\n",
       "    <tr>\n",
       "      <th>70</th>\n",
       "      <td>best-seller-aa-testing-fail-fast-edition</td>\n",
       "      <td>8356</td>\n",
       "      <td>2021-08-02</td>\n",
       "      <td>2</td>\n",
       "    </tr>\n",
       "    <tr>\n",
       "      <th>71</th>\n",
       "      <td>best-seller-aa-testing-fail-fast-edition</td>\n",
       "      <td>8621</td>\n",
       "      <td>2021-08-02</td>\n",
       "      <td>2</td>\n",
       "    </tr>\n",
       "    <tr>\n",
       "      <th>105</th>\n",
       "      <td>best-seller-aa-testing-fail-fast-edition</td>\n",
       "      <td>14642</td>\n",
       "      <td>2021-08-02</td>\n",
       "      <td>2</td>\n",
       "    </tr>\n",
       "  </tbody>\n",
       "</table>\n",
       "</div>"
      ],
      "text/plain": [
       "                                   experiment  user_id        date  variant\n",
       "24   best-seller-aa-testing-fail-fast-edition     2652  2021-08-02        2\n",
       "26   best-seller-aa-testing-fail-fast-edition     2759  2021-08-02        2\n",
       "70   best-seller-aa-testing-fail-fast-edition     8356  2021-08-02        2\n",
       "71   best-seller-aa-testing-fail-fast-edition     8621  2021-08-02        2\n",
       "105  best-seller-aa-testing-fail-fast-edition    14642  2021-08-02        2"
      ]
     },
     "execution_count": 18,
     "metadata": {},
     "output_type": "execute_result"
    }
   ],
   "source": [
    "# identificacion de clientes para los cuales hubo más de una variante por experimento en un solo día\n",
    "user_variants = df_detailed_experiments_02.groupby(['experiment','user_id','date'])['variant'].nunique().reset_index()\n",
    "users_in_multiple_variants = user_variants[user_variants['variant'] > 1]\n",
    "users_in_multiple_variants.head()"
   ]
  },
  {
   "cell_type": "code",
   "execution_count": 19,
   "metadata": {},
   "outputs": [
    {
     "data": {
      "text/html": [
       "<div>\n",
       "<style scoped>\n",
       "    .dataframe tbody tr th:only-of-type {\n",
       "        vertical-align: middle;\n",
       "    }\n",
       "\n",
       "    .dataframe tbody tr th {\n",
       "        vertical-align: top;\n",
       "    }\n",
       "\n",
       "    .dataframe thead th {\n",
       "        text-align: right;\n",
       "    }\n",
       "</style>\n",
       "<table border=\"1\" class=\"dataframe\">\n",
       "  <thead>\n",
       "    <tr style=\"text-align: right;\">\n",
       "      <th></th>\n",
       "      <th>date</th>\n",
       "      <th>experiment</th>\n",
       "      <th>variant</th>\n",
       "      <th>user_id</th>\n",
       "      <th>path</th>\n",
       "      <th>purchase_funnel_flag</th>\n",
       "      <th>item_id</th>\n",
       "    </tr>\n",
       "  </thead>\n",
       "  <tbody>\n",
       "    <tr>\n",
       "      <th>7415</th>\n",
       "      <td>2021-08-01</td>\n",
       "      <td>best-seller-aa-testing-fail-fast-edition</td>\n",
       "      <td>4515</td>\n",
       "      <td>2652</td>\n",
       "      <td>search</td>\n",
       "      <td>0</td>\n",
       "      <td>0</td>\n",
       "    </tr>\n",
       "    <tr>\n",
       "      <th>57986</th>\n",
       "      <td>2021-08-02</td>\n",
       "      <td>best-seller-aa-testing-fail-fast-edition</td>\n",
       "      <td>4514</td>\n",
       "      <td>2652</td>\n",
       "      <td>search</td>\n",
       "      <td>0</td>\n",
       "      <td>0</td>\n",
       "    </tr>\n",
       "    <tr>\n",
       "      <th>60303</th>\n",
       "      <td>2021-08-02</td>\n",
       "      <td>best-seller-aa-testing-fail-fast-edition</td>\n",
       "      <td>4515</td>\n",
       "      <td>2652</td>\n",
       "      <td>search</td>\n",
       "      <td>0</td>\n",
       "      <td>0</td>\n",
       "    </tr>\n",
       "  </tbody>\n",
       "</table>\n",
       "</div>"
      ],
      "text/plain": [
       "             date                                experiment variant  user_id  \\\n",
       "7415   2021-08-01  best-seller-aa-testing-fail-fast-edition    4515     2652   \n",
       "57986  2021-08-02  best-seller-aa-testing-fail-fast-edition    4514     2652   \n",
       "60303  2021-08-02  best-seller-aa-testing-fail-fast-edition    4515     2652   \n",
       "\n",
       "         path  purchase_funnel_flag  item_id  \n",
       "7415   search                     0        0  \n",
       "57986  search                     0        0  \n",
       "60303  search                     0        0  "
      ]
     },
     "execution_count": 19,
     "metadata": {},
     "output_type": "execute_result"
    }
   ],
   "source": [
    "df_detailed_experiments_02[(df_detailed_experiments_02['user_id']==2652)&(df_detailed_experiments_02['experiment']=='best-seller-aa-testing-fail-fast-edition')]"
   ]
  },
  {
   "cell_type": "code",
   "execution_count": 20,
   "metadata": {},
   "outputs": [],
   "source": [
    "# Exclusión de los clientes y variantes identificados anteriormente\n",
    "df_detailed_experiments_03 = df_detailed_experiments_02.merge(users_in_multiple_variants[['experiment', 'user_id','date']]\n",
    "                                                              , on=['experiment', 'user_id','date'], how='left', indicator=True)\n",
    "df_detailed_experiments_03 = df_detailed_experiments_03[df_detailed_experiments_03._merge == 'left_only']\n",
    "df_detailed_experiments_03 = df_detailed_experiments_03.drop(columns=['_merge'])"
   ]
  },
  {
   "cell_type": "code",
   "execution_count": 21,
   "metadata": {},
   "outputs": [
    {
     "name": "stdout",
     "output_type": "stream",
     "text": [
      "(154964, 7)\n",
      "(140033, 7)\n",
      "(54842, 7)\n",
      "(54806, 7)\n",
      "(53481, 7)\n"
     ]
    }
   ],
   "source": [
    "# Traza de la información removida en el dataframe detallado\n",
    "print(df_detailed_experiments.shape)\n",
    "print(df_detailed_experiments_00.shape)\n",
    "print(df_detailed_experiments_01.shape)\n",
    "print(df_detailed_experiments_02.shape)\n",
    "print(df_detailed_experiments_03.shape)"
   ]
  },
  {
   "cell_type": "markdown",
   "metadata": {},
   "source": [
    "Puesto que los filtros que acabmos de realizar fueron sobre la tabla detallada, agruparemos y procesaremos nuevamente la información para llegar de nuevo a nuestros datos agrupados, pero esta vez lo haremos de una manera más precisa y confiable."
   ]
  },
  {
   "cell_type": "code",
   "execution_count": 22,
   "metadata": {},
   "outputs": [],
   "source": [
    "df_grouped_experiments_03 = df_detailed_experiments_03.groupby(['date', 'experiment', 'variant']).agg({'user_id': 'count', 'purchase_funnel_flag': 'sum'}).reset_index()\n",
    "df_grouped_experiments_03 = df_grouped_experiments_03.rename(columns={\"user_id\": \"participants\" , \"purchase_funnel_flag\": \"purchases\"})\n",
    "df_grouped_experiments_03['buy_rate'] = df_grouped_experiments_03['purchases']/df_grouped_experiments_03['participants']\n",
    "df_grouped_experiments_03['buy_rate_percent'] = df_grouped_experiments_03['buy_rate'] .apply(lambda x: '{:.2f}%'.format(x*100))\n",
    "\n",
    "df_grouped_experiments_03[\"buy_rate\"] = df_grouped_experiments_03[\"buy_rate\"].apply(lambda x: round(x, 2))\n",
    "total_participants_per_day = df_grouped_experiments_03.groupby(['date', 'experiment'])['participants'].sum().reset_index()\n",
    "total_participants_per_day.columns = ['date', 'experiment', 'total_participants']\n",
    "\n",
    "# Merge the total participants with the original dataframe\n",
    "df_grouped_experiments_03 = df_grouped_experiments_03.merge(total_participants_per_day, on=['date', 'experiment'])\n",
    "df_grouped_experiments_03['participation_percent'] = (df_grouped_experiments_03['participants'] / df_grouped_experiments_03['total_participants']) * 100"
   ]
  },
  {
   "cell_type": "code",
   "execution_count": 23,
   "metadata": {},
   "outputs": [
    {
     "name": "stdout",
     "output_type": "stream",
     "text": [
      "(143, 9)\n",
      "(129, 9)\n",
      "(66, 9)\n",
      "(62, 9)\n",
      "(62, 9)\n"
     ]
    }
   ],
   "source": [
    "# Traza de la información removida en el dataframe agrupado\n",
    "print(df_grouped_experiments.shape)\n",
    "print(df_grouped_experiments_00.shape)\n",
    "print(df_grouped_experiments_01.shape)\n",
    "print(df_grouped_experiments_02.shape)\n",
    "print(df_grouped_experiments_03.shape)"
   ]
  },
  {
   "cell_type": "markdown",
   "metadata": {},
   "source": [
    "### **Extensiones al ejercicio**\n",
    "\n",
    "Algunas inquietudes para las cuales no se logra dar solución en este challenge, las dejaremos en consideración para futuros desarrollos.\n",
    " * como validar población e independencia entre los experimentos, para garantizar que no haya sesgos? \n",
    " * que recomendaciones se tienen para las áreas de la empresa, para garantizar la independencia de los experimentos? "
   ]
  },
  {
   "cell_type": "markdown",
   "metadata": {},
   "source": [
    "### **Análisis de Resultados e Insights**\n",
    "\n",
    "Aqui validaremos 3 experimentos de particular interés, y nos apoyaremos en analisis bayesianos, PSI, conteos discretos entre otros.\n",
    "\n",
    "En AB testing, el enfoque bayesiano se utiliza para evaluar la efectividad relativa de diferentes variantes, como A y B. En lugar de basarse en pruebas de hipótesis clásicas, el enfoque bayesiano modela las tasas de conversión de las variantes como distribuciones de probabilidad.Se comienza con creencias previas sobre las tasas de conversión de las variantes (distribuciones a priori) y se actualizan con los datos observados durante el experimento. Esto resulta en distribuciones a posteriori que representan la probabilidad de que cada variante sea la mejor.El enfoque bayesiano proporciona una forma coherente de comparar las variantes y tomar decisiones basadas en la evidencia observada y en las creencias previas. También permite una mejor gestión de la incertidumbre y una interpretación más intuitiva de los resultados del AB testing.\n",
    "\n",
    "\n",
    "El Índice de Estabilidad de Población (PSI) es una métrica utilizada en análisis estadístico para medir la estabilidad de la distribución de una población entre dos momentos temporales o entre dos muestras. El PSI evalúa la magnitud de los cambios en la distribución de la variable y proporciona una medida de la estabilidad relativa entre los dos grupos comparados. Un PSI cercano a cero indica una estabilidad alta, mientras que valores más altos indican una mayor discrepancia entre las distribuciones y, por lo tanto, una menor estabilidad. Esta métrica es especialmente útil en el análisis de experimentos A/B para evaluar la estabilidad de las características demográficas o del comportamiento de los usuarios entre diferentes variantes o períodos de tiempo."
   ]
  },
  {
   "cell_type": "markdown",
   "metadata": {},
   "source": [
    "**El tiempo no permitió trabjar en contrastes de hipótesis clásico, para validar o rechazar la hipótesis nula, la cual para este caso podría ser, asumir que las dos variantes tienen los mismas tasa de compra o resultados.**"
   ]
  },
  {
   "cell_type": "markdown",
   "metadata": {},
   "source": [
    "### **Experimento 1**"
   ]
  },
  {
   "cell_type": "code",
   "execution_count": 24,
   "metadata": {},
   "outputs": [
    {
     "data": {
      "text/html": [
       "<div>\n",
       "<style scoped>\n",
       "    .dataframe tbody tr th:only-of-type {\n",
       "        vertical-align: middle;\n",
       "    }\n",
       "\n",
       "    .dataframe tbody tr th {\n",
       "        vertical-align: top;\n",
       "    }\n",
       "\n",
       "    .dataframe thead th {\n",
       "        text-align: right;\n",
       "    }\n",
       "</style>\n",
       "<table border=\"1\" class=\"dataframe\">\n",
       "  <thead>\n",
       "    <tr style=\"text-align: right;\">\n",
       "      <th></th>\n",
       "      <th>date</th>\n",
       "      <th>experiment</th>\n",
       "      <th>variant</th>\n",
       "      <th>participants</th>\n",
       "      <th>purchases</th>\n",
       "      <th>buy_rate</th>\n",
       "      <th>buy_rate_percent</th>\n",
       "      <th>total_participants</th>\n",
       "      <th>participation_percent</th>\n",
       "    </tr>\n",
       "  </thead>\n",
       "  <tbody>\n",
       "    <tr>\n",
       "      <th>0</th>\n",
       "      <td>2021-08-01</td>\n",
       "      <td>best-seller-aa-testing-fail-fast-edition</td>\n",
       "      <td>4514</td>\n",
       "      <td>690</td>\n",
       "      <td>27</td>\n",
       "      <td>0.04</td>\n",
       "      <td>3.91%</td>\n",
       "      <td>1379</td>\n",
       "      <td>50.036258</td>\n",
       "    </tr>\n",
       "    <tr>\n",
       "      <th>1</th>\n",
       "      <td>2021-08-01</td>\n",
       "      <td>best-seller-aa-testing-fail-fast-edition</td>\n",
       "      <td>4515</td>\n",
       "      <td>689</td>\n",
       "      <td>36</td>\n",
       "      <td>0.05</td>\n",
       "      <td>5.22%</td>\n",
       "      <td>1379</td>\n",
       "      <td>49.963742</td>\n",
       "    </tr>\n",
       "    <tr>\n",
       "      <th>32</th>\n",
       "      <td>2021-08-02</td>\n",
       "      <td>best-seller-aa-testing-fail-fast-edition</td>\n",
       "      <td>4515</td>\n",
       "      <td>2248</td>\n",
       "      <td>137</td>\n",
       "      <td>0.06</td>\n",
       "      <td>6.09%</td>\n",
       "      <td>4482</td>\n",
       "      <td>50.156180</td>\n",
       "    </tr>\n",
       "    <tr>\n",
       "      <th>31</th>\n",
       "      <td>2021-08-02</td>\n",
       "      <td>best-seller-aa-testing-fail-fast-edition</td>\n",
       "      <td>4514</td>\n",
       "      <td>2234</td>\n",
       "      <td>151</td>\n",
       "      <td>0.07</td>\n",
       "      <td>6.76%</td>\n",
       "      <td>4482</td>\n",
       "      <td>49.843820</td>\n",
       "    </tr>\n",
       "    <tr>\n",
       "      <th>2</th>\n",
       "      <td>2021-08-01</td>\n",
       "      <td>carousel-v2p-above-the-fold</td>\n",
       "      <td>6786</td>\n",
       "      <td>684</td>\n",
       "      <td>56</td>\n",
       "      <td>0.08</td>\n",
       "      <td>8.19%</td>\n",
       "      <td>1415</td>\n",
       "      <td>48.339223</td>\n",
       "    </tr>\n",
       "    <tr>\n",
       "      <th>3</th>\n",
       "      <td>2021-08-01</td>\n",
       "      <td>carousel-v2p-above-the-fold</td>\n",
       "      <td>6787</td>\n",
       "      <td>731</td>\n",
       "      <td>58</td>\n",
       "      <td>0.08</td>\n",
       "      <td>7.93%</td>\n",
       "      <td>1415</td>\n",
       "      <td>51.660777</td>\n",
       "    </tr>\n",
       "    <tr>\n",
       "      <th>33</th>\n",
       "      <td>2021-08-02</td>\n",
       "      <td>carousel-v2p-above-the-fold</td>\n",
       "      <td>6786</td>\n",
       "      <td>2368</td>\n",
       "      <td>252</td>\n",
       "      <td>0.11</td>\n",
       "      <td>10.64%</td>\n",
       "      <td>4585</td>\n",
       "      <td>51.646674</td>\n",
       "    </tr>\n",
       "    <tr>\n",
       "      <th>34</th>\n",
       "      <td>2021-08-02</td>\n",
       "      <td>carousel-v2p-above-the-fold</td>\n",
       "      <td>6787</td>\n",
       "      <td>2217</td>\n",
       "      <td>240</td>\n",
       "      <td>0.11</td>\n",
       "      <td>10.83%</td>\n",
       "      <td>4585</td>\n",
       "      <td>48.353326</td>\n",
       "    </tr>\n",
       "    <tr>\n",
       "      <th>36</th>\n",
       "      <td>2021-08-02</td>\n",
       "      <td>checkOnBehavior</td>\n",
       "      <td>349</td>\n",
       "      <td>89</td>\n",
       "      <td>8</td>\n",
       "      <td>0.09</td>\n",
       "      <td>8.99%</td>\n",
       "      <td>188</td>\n",
       "      <td>47.340426</td>\n",
       "    </tr>\n",
       "    <tr>\n",
       "      <th>35</th>\n",
       "      <td>2021-08-02</td>\n",
       "      <td>checkOnBehavior</td>\n",
       "      <td>348</td>\n",
       "      <td>99</td>\n",
       "      <td>3</td>\n",
       "      <td>0.03</td>\n",
       "      <td>3.03%</td>\n",
       "      <td>188</td>\n",
       "      <td>52.659574</td>\n",
       "    </tr>\n",
       "    <tr>\n",
       "      <th>4</th>\n",
       "      <td>2021-08-01</td>\n",
       "      <td>checkOnBehavior</td>\n",
       "      <td>348</td>\n",
       "      <td>22</td>\n",
       "      <td>0</td>\n",
       "      <td>0.00</td>\n",
       "      <td>0.00%</td>\n",
       "      <td>43</td>\n",
       "      <td>51.162791</td>\n",
       "    </tr>\n",
       "    <tr>\n",
       "      <th>5</th>\n",
       "      <td>2021-08-01</td>\n",
       "      <td>checkOnBehavior</td>\n",
       "      <td>349</td>\n",
       "      <td>21</td>\n",
       "      <td>1</td>\n",
       "      <td>0.05</td>\n",
       "      <td>4.76%</td>\n",
       "      <td>43</td>\n",
       "      <td>48.837209</td>\n",
       "    </tr>\n",
       "    <tr>\n",
       "      <th>6</th>\n",
       "      <td>2021-08-01</td>\n",
       "      <td>official-store-orders-boost</td>\n",
       "      <td>4313</td>\n",
       "      <td>83</td>\n",
       "      <td>5</td>\n",
       "      <td>0.06</td>\n",
       "      <td>6.02%</td>\n",
       "      <td>185</td>\n",
       "      <td>44.864865</td>\n",
       "    </tr>\n",
       "    <tr>\n",
       "      <th>7</th>\n",
       "      <td>2021-08-01</td>\n",
       "      <td>official-store-orders-boost</td>\n",
       "      <td>4314</td>\n",
       "      <td>102</td>\n",
       "      <td>3</td>\n",
       "      <td>0.03</td>\n",
       "      <td>2.94%</td>\n",
       "      <td>185</td>\n",
       "      <td>55.135135</td>\n",
       "    </tr>\n",
       "    <tr>\n",
       "      <th>37</th>\n",
       "      <td>2021-08-02</td>\n",
       "      <td>official-store-orders-boost</td>\n",
       "      <td>4313</td>\n",
       "      <td>322</td>\n",
       "      <td>7</td>\n",
       "      <td>0.02</td>\n",
       "      <td>2.17%</td>\n",
       "      <td>682</td>\n",
       "      <td>47.214076</td>\n",
       "    </tr>\n",
       "    <tr>\n",
       "      <th>38</th>\n",
       "      <td>2021-08-02</td>\n",
       "      <td>official-store-orders-boost</td>\n",
       "      <td>4314</td>\n",
       "      <td>360</td>\n",
       "      <td>4</td>\n",
       "      <td>0.01</td>\n",
       "      <td>1.11%</td>\n",
       "      <td>682</td>\n",
       "      <td>52.785924</td>\n",
       "    </tr>\n",
       "    <tr>\n",
       "      <th>8</th>\n",
       "      <td>2021-08-01</td>\n",
       "      <td>recommended-products</td>\n",
       "      <td>6157</td>\n",
       "      <td>836</td>\n",
       "      <td>42</td>\n",
       "      <td>0.05</td>\n",
       "      <td>5.02%</td>\n",
       "      <td>1754</td>\n",
       "      <td>47.662486</td>\n",
       "    </tr>\n",
       "    <tr>\n",
       "      <th>39</th>\n",
       "      <td>2021-08-02</td>\n",
       "      <td>recommended-products</td>\n",
       "      <td>6157</td>\n",
       "      <td>2715</td>\n",
       "      <td>213</td>\n",
       "      <td>0.08</td>\n",
       "      <td>7.85%</td>\n",
       "      <td>5512</td>\n",
       "      <td>49.256168</td>\n",
       "    </tr>\n",
       "    <tr>\n",
       "      <th>40</th>\n",
       "      <td>2021-08-02</td>\n",
       "      <td>recommended-products</td>\n",
       "      <td>6158</td>\n",
       "      <td>2797</td>\n",
       "      <td>185</td>\n",
       "      <td>0.07</td>\n",
       "      <td>6.61%</td>\n",
       "      <td>5512</td>\n",
       "      <td>50.743832</td>\n",
       "    </tr>\n",
       "    <tr>\n",
       "      <th>9</th>\n",
       "      <td>2021-08-01</td>\n",
       "      <td>recommended-products</td>\n",
       "      <td>6158</td>\n",
       "      <td>918</td>\n",
       "      <td>46</td>\n",
       "      <td>0.05</td>\n",
       "      <td>5.01%</td>\n",
       "      <td>1754</td>\n",
       "      <td>52.337514</td>\n",
       "    </tr>\n",
       "  </tbody>\n",
       "</table>\n",
       "</div>"
      ],
      "text/plain": [
       "          date                                experiment variant  \\\n",
       "0   2021-08-01  best-seller-aa-testing-fail-fast-edition    4514   \n",
       "1   2021-08-01  best-seller-aa-testing-fail-fast-edition    4515   \n",
       "32  2021-08-02  best-seller-aa-testing-fail-fast-edition    4515   \n",
       "31  2021-08-02  best-seller-aa-testing-fail-fast-edition    4514   \n",
       "2   2021-08-01               carousel-v2p-above-the-fold    6786   \n",
       "3   2021-08-01               carousel-v2p-above-the-fold    6787   \n",
       "33  2021-08-02               carousel-v2p-above-the-fold    6786   \n",
       "34  2021-08-02               carousel-v2p-above-the-fold    6787   \n",
       "36  2021-08-02                           checkOnBehavior     349   \n",
       "35  2021-08-02                           checkOnBehavior     348   \n",
       "4   2021-08-01                           checkOnBehavior     348   \n",
       "5   2021-08-01                           checkOnBehavior     349   \n",
       "6   2021-08-01               official-store-orders-boost    4313   \n",
       "7   2021-08-01               official-store-orders-boost    4314   \n",
       "37  2021-08-02               official-store-orders-boost    4313   \n",
       "38  2021-08-02               official-store-orders-boost    4314   \n",
       "8   2021-08-01                      recommended-products    6157   \n",
       "39  2021-08-02                      recommended-products    6157   \n",
       "40  2021-08-02                      recommended-products    6158   \n",
       "9   2021-08-01                      recommended-products    6158   \n",
       "\n",
       "    participants  purchases  buy_rate buy_rate_percent  total_participants  \\\n",
       "0            690         27      0.04            3.91%                1379   \n",
       "1            689         36      0.05            5.22%                1379   \n",
       "32          2248        137      0.06            6.09%                4482   \n",
       "31          2234        151      0.07            6.76%                4482   \n",
       "2            684         56      0.08            8.19%                1415   \n",
       "3            731         58      0.08            7.93%                1415   \n",
       "33          2368        252      0.11           10.64%                4585   \n",
       "34          2217        240      0.11           10.83%                4585   \n",
       "36            89          8      0.09            8.99%                 188   \n",
       "35            99          3      0.03            3.03%                 188   \n",
       "4             22          0      0.00            0.00%                  43   \n",
       "5             21          1      0.05            4.76%                  43   \n",
       "6             83          5      0.06            6.02%                 185   \n",
       "7            102          3      0.03            2.94%                 185   \n",
       "37           322          7      0.02            2.17%                 682   \n",
       "38           360          4      0.01            1.11%                 682   \n",
       "8            836         42      0.05            5.02%                1754   \n",
       "39          2715        213      0.08            7.85%                5512   \n",
       "40          2797        185      0.07            6.61%                5512   \n",
       "9            918         46      0.05            5.01%                1754   \n",
       "\n",
       "    participation_percent  \n",
       "0               50.036258  \n",
       "1               49.963742  \n",
       "32              50.156180  \n",
       "31              49.843820  \n",
       "2               48.339223  \n",
       "3               51.660777  \n",
       "33              51.646674  \n",
       "34              48.353326  \n",
       "36              47.340426  \n",
       "35              52.659574  \n",
       "4               51.162791  \n",
       "5               48.837209  \n",
       "6               44.864865  \n",
       "7               55.135135  \n",
       "37              47.214076  \n",
       "38              52.785924  \n",
       "8               47.662486  \n",
       "39              49.256168  \n",
       "40              50.743832  \n",
       "9               52.337514  "
      ]
     },
     "execution_count": 24,
     "metadata": {},
     "output_type": "execute_result"
    }
   ],
   "source": [
    "df_grouped_experiments_03.sort_values(by=\"experiment\").head(20)"
   ]
  },
  {
   "cell_type": "code",
   "execution_count": 25,
   "metadata": {},
   "outputs": [
    {
     "name": "stdout",
     "output_type": "stream",
     "text": [
      "      date               experiment      variant participation_percent  participants buy_rate_percent  buy_rate\n",
      "2021-08-01 seller-reputation-change [4552, 4553]        [21.77, 78.23]          1741   [3.43%, 5.43%]     0.040\n",
      "2021-08-02 seller-reputation-change [4552, 4553]        [19.05, 80.95]          5534   [8.44%, 7.03%]     0.075\n",
      "\n",
      "Índice de Estabilidad de Población (PSI) entre el primer y segundo vector: 0.004559923546430123\n"
     ]
    },
    {
     "data": {
      "image/png": "[encoded data removed]",
      "text/plain": [
       "<Figure size 1200x600 with 2 Axes>"
      ]
     },
     "metadata": {},
     "output_type": "display_data"
    }
   ],
   "source": [
    "analyzer = AnalisisExperimento(df_grouped_experiments_03)\n",
    "analyzer.analisis_experimento('seller-reputation-change')"
   ]
  },
  {
   "cell_type": "code",
   "execution_count": 26,
   "metadata": {},
   "outputs": [
    {
     "name": "stdout",
     "output_type": "stream",
     "text": [
      "+-----------+-----------------------+-----------------+-------------------+-----------------+\n",
      "|   variant | concentration         |   average_value |   prob_being_best |   expected_loss |\n",
      "+===========+=======================+=================+===================+=================+\n",
      "|      4552 | {0: 1400.0, 1: 107.0} |       0.071002  |            0.7267 |       0.0011933 |\n",
      "+-----------+-----------------------+-----------------+-------------------+-----------------+\n",
      "|      4553 | {0: 5520.0, 1: 396.0} |       0.0669371 |            0.2733 |       0.0057255 |\n",
      "+-----------+-----------------------+-----------------+-------------------+-----------------+\n"
     ]
    }
   ],
   "source": [
    "AB_test_data = AnalisisExperimento(df_detailed_experiments)\n",
    "AB_test_data.ab_test_discreto('seller-reputation-change')"
   ]
  },
  {
   "cell_type": "code",
   "execution_count": 27,
   "metadata": {},
   "outputs": [
    {
     "name": "stdout",
     "output_type": "stream",
     "text": [
      "+-----------+----------+-------------+-----------------+------------------+-------------------+-----------------+\n",
      "|   variant |   totals |   positives |   positive_rate |   posterior_mean |   prob_being_best |   expected_loss |\n",
      "+===========+==========+=============+=================+==================+===================+=================+\n",
      "|      4552 |     1507 |         107 |         0.071   |          0.07129 |            0.7147 |       0.001261  |\n",
      "+-----------+----------+-------------+-----------------+------------------+-------------------+-----------------+\n",
      "|      4553 |     5916 |         396 |         0.06694 |          0.06701 |            0.2853 |       0.0055166 |\n",
      "+-----------+----------+-------------+-----------------+------------------+-------------------+-----------------+\n"
     ]
    }
   ],
   "source": [
    "AB_test_data.ab_test_binario('seller-reputation-change')"
   ]
  },
  {
   "cell_type": "markdown",
   "metadata": {},
   "source": [
    "Análisis experimento **seller-reputation-change**\n",
    "\n",
    " * **Tasa de Compra el 2021-08-01**:\n",
    " La variante 4553 tiene una tasa de compra más alta (5.43%) en comparación con la variante 4552 (3.43%).\n",
    "\n",
    " * **Tasa de Compra el 2021-08-02**:\n",
    " La variante 4552 tiene una tasa de compra más alta (8.44%) en comparación con la variante 4553 (7.03%).\n",
    "\n",
    "**Observaciones y Recomendaciones**\n",
    "\n",
    "Hay una variabilidad significativa en la tasa de compra entre los dos días. La variante 4553 tuvo un mejor rendimiento el primer día, mientras que la variante 4552 fue superior el segundo día.\n",
    "\n",
    "**1. Probabilidad de ser la Mejor**:Aunque la tasa de compra varía entre los días, la variante 4552 tiene una mayor probabilidad general de ser la mejor (71.88%).\n",
    "Pérdida Esperada:\n",
    "\n",
    "**2. La pérdida esperada** es menor para la variante 4552, sugiriendo que es una opción menos riesgosa a largo plazo.\n",
    "\n",
    "Finalmente, y dado que la variante 4552 muestra una mayor probabilidad de ser la mejor y una menor pérdida esperada, se recomienda considerarla como la variante preferida, aunque se debe tener en cuenta la variabilidad observada entre los días.\n",
    "\n",
    "***se recomienda***\n",
    "Considerar una implementación más amplia de la variante 4552, pero sigue monitoreando el rendimiento. Investigar las posibles causas de la variabilidad en la tasa de compra entre los días para entender mejor el comportamiento de los usuarios. Continúa monitoreando las métricas clave para asegurar la consistencia en el rendimiento (**mayor cantidad de días**)."
   ]
  },
  {
   "cell_type": "markdown",
   "metadata": {},
   "source": [
    "### **Experimento 2**"
   ]
  },
  {
   "cell_type": "code",
   "execution_count": 28,
   "metadata": {},
   "outputs": [
    {
     "name": "stdout",
     "output_type": "stream",
     "text": [
      "      date                  experiment      variant participation_percent  participants buy_rate_percent  buy_rate\n",
      "2021-08-01 official-store-orders-boost [4313, 4314]        [44.86, 55.14]           185   [6.02%, 2.94%]     0.045\n",
      "2021-08-02 official-store-orders-boost [4313, 4314]        [47.21, 52.79]           682   [2.17%, 1.11%]     0.015\n",
      "\n",
      "Índice de Estabilidad de Población (PSI) entre el primer y segundo vector: 0.0022234015568666013\n"
     ]
    },
    {
     "data": {
      "image/png": "[encoded data removed]",
      "text/plain": [
       "<Figure size 1200x600 with 2 Axes>"
      ]
     },
     "metadata": {},
     "output_type": "display_data"
    }
   ],
   "source": [
    "analyzer.analisis_experimento('official-store-orders-boost')"
   ]
  },
  {
   "cell_type": "code",
   "execution_count": 29,
   "metadata": {},
   "outputs": [
    {
     "name": "stdout",
     "output_type": "stream",
     "text": [
      "+-----------+----------+-------------+-----------------+------------------+-------------------+-----------------+\n",
      "|   variant |   totals |   positives |   positive_rate |   posterior_mean |   prob_being_best |   expected_loss |\n",
      "+===========+==========+=============+=================+==================+===================+=================+\n",
      "|      4313 |      407 |          12 |         0.02948 |          0.03064 |           0.92375 |       0.0003396 |\n",
      "+-----------+----------+-------------+-----------------+------------------+-------------------+-----------------+\n",
      "|      4314 |      464 |           7 |         0.01509 |          0.01613 |           0.07625 |       0.0147491 |\n",
      "+-----------+----------+-------------+-----------------+------------------+-------------------+-----------------+\n"
     ]
    }
   ],
   "source": [
    "AB_test_data.ab_test_binario('official-store-orders-boost')"
   ]
  },
  {
   "cell_type": "markdown",
   "metadata": {},
   "source": [
    "Análisis experimento **official-store-orders-boost**\n",
    "\n",
    " * **Tasa de Compra el 2021-08-01**:\n",
    "La variante 4313 tiene una tasa de compra más alta (6.02%) en comparación con la variante 4314 (2.94%).\n",
    "\n",
    " * **Tasa de Compra el 2021-08-02**:\n",
    "La variante 4313 tiene una tasa de compra más alta (2.17%) en comparación con la variante 4314 (1.11%).\n",
    "\n",
    "Observaciones y Recomendaciones\n",
    "\n",
    "Hay una variabilidad en la tasa de compra entre los dos días. En ambos días, la variante 4313 mostró una tasa de compra más alta que la variante 4314.\n",
    "\n",
    "**1. Probabilidad de ser la Mejor:**\n",
    "La variante 4313 tiene una probabilidad del 92.29% de ser la mejor, lo cual es considerablemente alto. Esto sugiere que la variante 4313 podría ser más efectiva en impulsar las ventas.\n",
    "\n",
    "**2. Pérdida Esperada:**\n",
    "La pérdida esperada asociada a la variante 4313 es menor que la de la variante 4314, lo cual sugiere que optar por la variante 4313 conlleva menos riesgo financiero.\n",
    "\n",
    "Dado que la variante 4313 muestra una mayor probabilidad de ser la mejor y una menor pérdida esperada, se recomienda considerarla como la variante preferida.\n",
    "\n",
    "***Se recomienda***\n",
    "\n",
    "Considerar una implementación más amplia de la variante 4313, pero sigue monitoreando el rendimiento.\n",
    "Analizar la variabilidad en la tasa de compra entre los días para entender mejor el comportamiento de los usuarios.\n",
    "Continuar monitoreando las métricas clave para asegurar la consistencia en el rendimiento."
   ]
  },
  {
   "cell_type": "markdown",
   "metadata": {},
   "source": [
    "### **Experimento 3**"
   ]
  },
  {
   "cell_type": "code",
   "execution_count": 30,
   "metadata": {},
   "outputs": [
    {
     "name": "stdout",
     "output_type": "stream",
     "text": [
      "      date           experiment      variant participation_percent  participants buy_rate_percent  buy_rate\n",
      "2021-08-01 recommended-products [6157, 6158]        [47.66, 52.34]          1754   [5.02%, 5.01%]     0.050\n",
      "2021-08-02 recommended-products [6157, 6158]        [49.26, 50.74]          5512   [7.85%, 6.61%]     0.075\n",
      "\n",
      "Índice de Estabilidad de Población (PSI) entre el primer y segundo vector: 0.001025060223037122\n"
     ]
    },
    {
     "data": {
      "image/png": "[encoded data removed]",
      "text/plain": [
       "<Figure size 1200x600 with 2 Axes>"
      ]
     },
     "metadata": {},
     "output_type": "display_data"
    }
   ],
   "source": [
    "analyzer.analisis_experimento('recommended-products')"
   ]
  },
  {
   "cell_type": "code",
   "execution_count": 31,
   "metadata": {},
   "outputs": [
    {
     "name": "stdout",
     "output_type": "stream",
     "text": [
      "\n"
     ]
    }
   ],
   "source": [
    "AB_test_data.ab_test_binario('rrecommended-products')"
   ]
  },
  {
   "cell_type": "markdown",
   "metadata": {},
   "source": [
    "Análisis experimento **recommended-products**\n",
    "\n",
    "* **Tasa de Compra el 2021-08-01:**\n",
    "La variante 6157 tiene una tasa de compra similar (5.02%) a la variante 6158 (5.01%).\n",
    "\n",
    "* **Tasa de Compra el 2021-08-02:**\n",
    "La variante 6157 tiene una tasa de compra ligeramente más alta (7.85%) que la variante 6158 (6.61%).\n",
    "\n",
    "Observaciones y Recomendaciones\n",
    "\n",
    "Hay una ligera variabilidad en la tasa de compra entre los dos días. En ambos días, la variante 6157 mostró una tasa de compra igual o ligeramente superior a la variante 6158.\n",
    "\n",
    " **1. Probabilidad de ser la Mejor:**\n",
    "La variante 6157 tiene una probabilidad del 94.68% de ser la mejor, lo cual es significativamente alto. Esto sugiere que la variante 6157 es más efectiva en impulsar las ventas.\n",
    "\n",
    " **2. Pérdida Esperada:**\n",
    "La pérdida esperada asociada a la variante 6157 es mucho menor que la de la variante 6158, lo cual indica que optar por la variante 6157 conlleva menos riesgo financiero.\n",
    "\n",
    "Dado que la variante 6157 muestra una mayor probabilidad de ser la mejor y una menor pérdida esperada, se recomienda considerarla como la variante preferida.\n",
    "\n",
    "Se recomienda\n",
    "\n",
    "Considerar una implementación más amplia de la variante 6157, dado su mejor desempeño en términos de probabilidad de ser la mejor y pérdida esperada.\n",
    "Analizar los factores que podrían estar contribuyendo a la diferencia en la tasa de compra entre las variantes para comprender mejor el comportamiento de los usuarios.\n",
    "Continuar monitoreando las métricas clave para garantizar la consistencia en el rendimiento."
   ]
  }
 ],
 "metadata": {
  "kernelspec": {
   "display_name": "Python 3",
   "language": "python",
   "name": "python3"
  },
  "language_info": {
   "codemirror_mode": {
    "name": "ipython",
    "version": 3
   },
   "file_extension": ".py",
   "mimetype": "text/x-python",
   "name": "python",
   "nbconvert_exporter": "python",
   "pygments_lexer": "ipython3",
   "version": "3.8.17"
  }
 },
 "nbformat": 4,
 "nbformat_minor": 2
}
